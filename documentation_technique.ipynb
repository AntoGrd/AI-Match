{
 "cells": [
  {
   "cell_type": "markdown",
   "metadata": {
    "id": "WkfvLZwsjPaK"
   },
   "source": [
    "# **Documentation technique de l'application Dash**"
   ]
  },
  {
   "cell_type": "markdown",
   "metadata": {
    "id": "hOCr9-CXjbk5"
   },
   "source": [
    "## Nettoyage des données pour l'affichage"
   ]
  },
  {
   "cell_type": "markdown",
   "metadata": {
    "id": "5xaI98zLksKR"
   },
   "source": [
    "Dans un premier temps, nous avons nettoyé et recodé certaines variables afin de réaliser un affichage plus clair et plus agréable. Notamment, le sexe ('gender') était codé en \"0\", \"1\", que nous avons renommé \"Hommes\" et \"Femmes\". Nous avons de même réalisé un recodage sur les carrières \"career_c\".\n",
    "Enfin, nous avons réalisé des classes, regroupements pour les différentes tranches d'âges.\n",
    "\n",
    "Ces modifications se trouvent sur le fichier modele.py, qui recence les manipulation réalisées avant le traitement notre l'applciation Dash."
   ]
  },
  {
   "cell_type": "markdown",
   "metadata": {
    "id": "h-8zTrYjkslJ"
   },
   "source": [
    "## Création d'une Sidebar"
   ]
  },
  {
   "cell_type": "markdown",
   "metadata": {
    "id": "DebOBlCUwOcb"
   },
   "source": []
  },
  {
   "cell_type": "markdown",
   "metadata": {
    "id": "EvjEkfDDl9ER"
   },
   "source": [
    "Nous avons créé une Sidebar, afin de naviguer entre nos différentes pages.\n",
    "```\n",
    "sidebar = html.Div(\n",
    "    [\n",
    "        html.Div(html.Img(src=logo,width='200',height='200',alt='logo'),style={'text-align':'center'}),\n",
    "        html.Hr(),\n",
    "        \n",
    "        dbc.Nav([\n",
    "            dbc.NavLink(\"Présentation des Profils\", href=\"/PresentationdesProfils\", active=\"exact\"),html.Hr(),\n",
    "            dbc.NavLink(\"Profil type\", href=\"/ProfilType\", active=\"exact\"),html.Hr(),\n",
    "            dbc.NavLink(\"Explication Modèle\", href=\"/ExplicationModele\", active=\"exact\"),html.Hr(),\n",
    "            ],vertical=True,pills=True,\n",
    "        ),\n",
    "   ],\n",
    "   style=SIDEBAR_STYLE,\n",
    ")\n",
    "```\n",
    "Ainsi, nous avons une partie \"Présentation des Profils\", une partie \"Profil type\" et une partie \"Explication du modèle\", où se trouve notamment les différentes variables explicatives de notre modèle de prédiction."
   ]
  },
  {
   "cell_type": "markdown",
   "metadata": {
    "id": "AzG26o3_mWji"
   },
   "source": [
    "## Application Dash"
   ]
  },
  {
   "cell_type": "markdown",
   "metadata": {
    "id": "J9jadVAUnPIi"
   },
   "source": [
    "Création de l'application Dash :\n",
    "\n",
    "```\n",
    "# Partie Contenu\n",
    "content = html.Div(id=\"page-content\", children=[], style=CONTENT_STYLE)\n",
    "\n",
    "###############################################\n",
    "# DASH Application\n",
    "app = dash.Dash(__name__, external_stylesheets=[dbc.themes.BOOTSTRAP])\n",
    "server = app.server\n",
    "\n",
    "app.layout = html.Div([\n",
    "    dcc.Location(id=\"url\"),\n",
    "    sidebar,\n",
    "    content\n",
    "])\n",
    "```\n",
    "\n",
    "server = app.server permet de déployer l'application par la suite sur Heroku.\n",
    "En dessous, le layout nous permet notre contenu, dont la Sidebar précédemment créée."
   ]
  },
  {
   "cell_type": "markdown",
   "metadata": {
    "id": "luXBdWIPof06"
   },
   "source": [
    "## Les fonctions callback"
   ]
  },
  {
   "cell_type": "markdown",
   "metadata": {
    "id": "noQsNbJLo4_B"
   },
   "source": [
    "Ces fonctions permettent de réaliser des échanges de données. Il s'agit d'une fonction passée dans une autre fonction en tant qu'argument.\n",
    "\n",
    "```\n",
    "@app.callback(\n",
    "    Output(component_id='boxplot_output', component_property='figure'),\n",
    "    Input(component_id='radio_input', component_property='value'),\n",
    "    Input(component_id='dropdown_input', component_property='value'))\n",
    "def make_box(abs,ord):\n",
    "    x_abs=data.loc[:,abs]\n",
    "    y_ord=data.loc[:,ord]\n",
    "    fig = go.Figure(data=[go.Box(x=x_abs,y=y_ord)])\n",
    "    if (abs=='gender'):\n",
    "        fig.update_layout(title_text=\"Importance de critères selon le sexe\", title_x=0.5)\n",
    "    elif (abs=='age'):\n",
    "        fig.update_layout(title_text=\"Importance de critères selon l'âge\", title_x=0.5)\n",
    "    return fig\n",
    "```\n",
    "Cette première fonction callback permet de créer un boxplot, en prenant en entrée la valeur d'un radio bouton et d'une liste déroulante, et renvoie un graphique en sortie. Les entrées permettent de choisir les variables que nous voulons afficher. Les callbacks permettent donc des réaliser des graphiques interactifs.\n"
   ]
  },
  {
   "cell_type": "markdown",
   "metadata": {
    "id": "4_2_TzSfpO8h"
   },
   "source": [
    "```\n",
    "@app.callback(\n",
    "    Output(component_id='graph_output', component_property='figure'),\n",
    "    Input(component_id='select_input', component_property='value'))\n",
    "def get_data_table(option):\n",
    "    val = decision.loc[:, option]\n",
    "    fig = go.Figure(data=[go.Histogram(histfunc=\"avg\",x=val,y=decision.iloc[:,0])])\n",
    "    if (option=='gender'):\n",
    "        fig.update_layout(title_text=\"Pourcentage de oui reçus selon le sexe\", title_x=0.5)\n",
    "    elif (option=='age'):\n",
    "        fig.update_layout(title_text=\"Pourcentage de oui reçus selon l'âge\", title_x=0.5)\n",
    "    elif (option=='career_c'):\n",
    "        fig.update_layout(title_text=\"Pourcentage de oui reçus selon le type de travail\", title_x=0.5)\n",
    "\n",
    "    return fig\n",
    "```\n",
    "\n",
    "Cette deuxième fonction a le même objectif : récupérer la valeur d'un radio bouton en entrée, et de renvoyer un graphique en sortie. Dans ce cas-là, il s'agit d'un histogramme."
   ]
  },
  {
   "cell_type": "markdown",
   "metadata": {
    "id": "42wPufBPqYrJ"
   },
   "source": [
    "Nous avons créé une troisième fonction callback qui a pour but d'afficher le contenu des pages en récupérant un url en entrée.\n",
    "\n",
    "```\n",
    "@app.callback(\n",
    "    Output(\"page-content\", \"children\"),\n",
    "   [Input(\"url\", \"pathname\")]\n",
    ")\n",
    "```\n",
    "Si cet url correspond à \"PresentationdesProfils\", cela va afficher la page contenant les graphiques liés à la présentation des profils : \n",
    "```\n",
    "    if pathname == \"/PresentationdesProfils\":\n",
    "        return [\n",
    "                html.H1('Présentation des Profils',\n",
    "                        style={'textAlign':'center'}),\n",
    "                html.Div(dcc.Graph(id=\"pie_age\",\n",
    "                        figure={'data': [go.Pie(values=dataage.value_counts(),labels=('[23-27]','[28-32]','[18-22]','[33-37]','38+'))],\n",
    "                            'layout': {'title': 'Répartition des âges'}\n",
    "                                }),\n",
    "                    style={'border-top':'1px solid','border-bottom':'1px solid','border-left':'1px solid','float':'left','width':'30%','height':'500px'}),\n",
    "\n",
    "                html.Div(dcc.Graph(id=\"hist_metier\",\n",
    "                        figure={'data': [go.Histogram(histfunc=\"count\",x=datacar)],\n",
    "                            'layout': {'title': 'Répartition des métiers'}\n",
    "                                }),\n",
    "                    style={'border' : '1px black solid','float':'left','width':'69%','height':'500px'}),]\n",
    "```\n",
    "Si l'url contient \"ProfilType\", cela va afficher les graphiques liés au profil type des participantes. Nous pouvons cocher par exemple un radio boutton, et la valeur sera récupéré par la fonction callback et renvoyée pour modifier le graphique selon cette valeur, comme expliqué précédemment :\n",
    "```\n",
    "    elif pathname == \"/ProfilType\":\n",
    "        return [\n",
    "                html.Div(children=[\n",
    "                    html.Label('Choisissez un critère'),\n",
    "                    dcc.RadioItems(id='select_input',\n",
    "                        options=[\n",
    "                                {'label': 'Sexe', 'value': 'gender'},\n",
    "                                {'label': 'Travail', 'value': 'career_c'},\n",
    "                                {'label': 'Age', 'value': 'age'}\n",
    "                                ],className='select_categ',\n",
    "                         value='gender'),\n",
    "\n",
    "                    dcc.Graph(id='graph_output')\n",
    "                ],style={'border-top':'1px solid','border-right':'1px solid','border-left':'1px solid','float':'left','width':'99%','height':'600px'}),\n",
    "                \n",
    "                html.Div(children=[\n",
    "                    html.Label('Choisissez un critère'),\n",
    "                    dcc.Dropdown(id='dropdown_input',\n",
    "                                options=[{'label': 'Attractive', 'value': 'attr1_1'},\n",
    "                                {'label': 'Sincere', 'value': 'sinc1_1'},\n",
    "                                {'label': 'Intelligent', 'value': 'intel1_1'},\n",
    "                                {'label': 'Fun', 'value': 'fun1_1'},\n",
    "                                {'label': 'Ambitious', 'value': 'amb1_1'},\n",
    "                                {'label': ' Has shared interests/hobbies', 'value': 'shar1_1'}],\n",
    "                                 value='attr1_1',style={'width':'50%'}),\n",
    "\n",
    "                    dcc.RadioItems(id='radio_input',\n",
    "                                   options=[\n",
    "                                       {'label': 'Sexe', 'value': 'gender'},\n",
    "                                       {'label': 'Age', 'value': 'age'}\n",
    "                                   ],\n",
    "                                   value='gender'),\n",
    "                    \n",
    "                    dcc.Graph(id='boxplot_output')\n",
    "                ],\n",
    "                    style={'border' : '1px black solid','float':'left','width':'99%','height':'600px'}),html.Hr()]\n",
    "```"
   ]
  }
 ],
 "metadata": {
  "colab": {
   "collapsed_sections": [
    "h-8zTrYjkslJ",
    "AzG26o3_mWji",
    "luXBdWIPof06"
   ],
   "provenance": []
  },
  "kernelspec": {
   "display_name": "Python 3 (ipykernel)",
   "language": "python",
   "name": "python3"
  },
  "language_info": {
   "codemirror_mode": {
    "name": "ipython",
    "version": 3
   },
   "file_extension": ".py",
   "mimetype": "text/x-python",
   "name": "python",
   "nbconvert_exporter": "python",
   "pygments_lexer": "ipython3",
   "version": "3.9.13"
  }
 },
 "nbformat": 4,
 "nbformat_minor": 1
}
