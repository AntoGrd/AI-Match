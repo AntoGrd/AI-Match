{
  "nbformat": 4,
  "nbformat_minor": 0,
  "metadata": {
    "colab": {
      "provenance": [],
      "collapsed_sections": [
        "GFLWSmVbyHfT",
        "qLReI2xo09LS",
        "4Wb8anvI0BuC",
        "g-ncTp3R2U1i",
        "71IR_p_FCVl5",
        "BXELXU1NRH1V",
        "2fHQbfpyqpdk",
        "6BnFqz0HA-dd",
        "KhZd1DD_l3Sk",
        "01h3Npy7bjVt",
        "kv_avEx6lbck",
        "F6lEqQ0Mx7TM",
        "tNUn3rJ7zX-U",
        "JhTWEPWlA1l_"
      ]
    },
    "kernelspec": {
      "name": "python3",
      "display_name": "Python 3"
    },
    "language_info": {
      "name": "python"
    }
  },
  "cells": [
    {
      "cell_type": "markdown",
      "source": [
        "### Import du fichier"
      ],
      "metadata": {
        "id": "cnp-veSqPfYm"
      }
    },
    {
      "cell_type": "code",
      "execution_count": null,
      "metadata": {
        "colab": {
          "base_uri": "https://localhost:8080/"
        },
        "id": "pRaLi3ygxu96",
        "outputId": "5d900b91-a691-4efb-e0e6-9428d66e4396"
      },
      "outputs": [
        {
          "output_type": "stream",
          "name": "stdout",
          "text": [
            "Drive already mounted at /content/drive; to attempt to forcibly remount, call drive.mount(\"/content/drive\", force_remount=True).\n"
          ]
        }
      ],
      "source": [
        "from google.colab import drive\n",
        "drive.mount('/content/drive')\n"
      ]
    },
    {
      "cell_type": "code",
      "source": [
        "import pandas as pd\n",
        "df = pd.read_csv('/content/drive/MyDrive/fichier_python/submissions.csv',on_bad_lines=\"skip\",delimiter=\";\")"
      ],
      "metadata": {
        "id": "3Emp1AFjxxND"
      },
      "execution_count": null,
      "outputs": []
    },
    {
      "cell_type": "markdown",
      "source": [
        "### INFOS"
      ],
      "metadata": {
        "id": "GFLWSmVbyHfT"
      }
    },
    {
      "cell_type": "code",
      "source": [
        "df"
      ],
      "metadata": {
        "colab": {
          "base_uri": "https://localhost:8080/"
        },
        "id": "5hR3h2DyxxPS",
        "outputId": "96c50a0a-35a6-48e3-866b-79c831ceff7c"
      },
      "execution_count": null,
      "outputs": [
        {
          "output_type": "execute_result",
          "data": {
            "text/plain": [
              "      iid_pid  iid   id  gender  idg  condtn  partner  pid int_corr  samerace  \\\n",
              "0        6805  509  1.0       0    1       2        1  531    -0,12         1   \n",
              "1        6806  509  1.0       0    1       2        2  532     0,03         1   \n",
              "2        6807  509  1.0       0    1       2        3  533     0,37         0   \n",
              "3        6808  509  1.0       0    1       2        4  534     0,11         0   \n",
              "4        6809  509  1.0       0    1       2        5  535     0,39         0   \n",
              "...       ...  ...  ...     ...  ...     ...      ...  ...      ...       ...   \n",
              "1569     8374  465  6.0       1   12       1        2  455     0,41         0   \n",
              "1570     8375  465  6.0       1   12       1        3  456    -0,02         0   \n",
              "1571     8376  465  6.0       1   12       1        4  457     0,61         0   \n",
              "1572     8377  465  6.0       1   12       1        5  458    -0,42         0   \n",
              "1573     8378  465  6.0       1   12       1        6  459     0,25         0   \n",
              "\n",
              "      ...  shopping  yoga  exphappy  expnum  attr1_1  sinc1_1  intel1_1  \\\n",
              "0     ...       7.0   7.0       6.0     NaN     10.0     20.0      30.0   \n",
              "1     ...       7.0   7.0       6.0     NaN     10.0     20.0      30.0   \n",
              "2     ...       7.0   7.0       6.0     NaN     10.0     20.0      30.0   \n",
              "3     ...       7.0   7.0       6.0     NaN     10.0     20.0      30.0   \n",
              "4     ...       7.0   7.0       6.0     NaN     10.0     20.0      30.0   \n",
              "...   ...       ...   ...       ...     ...      ...      ...       ...   \n",
              "1569  ...       1.0   1.0       4.0     NaN     20.0     20.0      20.0   \n",
              "1570  ...       1.0   1.0       4.0     NaN     20.0     20.0      20.0   \n",
              "1571  ...       1.0   1.0       4.0     NaN     20.0     20.0      20.0   \n",
              "1572  ...       1.0   1.0       4.0     NaN     20.0     20.0      20.0   \n",
              "1573  ...       1.0   1.0       4.0     NaN     20.0     20.0      20.0   \n",
              "\n",
              "      fun1_1  amb1_1  shar1_1  \n",
              "0       10.0    10.0     20.0  \n",
              "1       10.0    10.0     20.0  \n",
              "2       10.0    10.0     20.0  \n",
              "3       10.0    10.0     20.0  \n",
              "4       10.0    10.0     20.0  \n",
              "...      ...     ...      ...  \n",
              "1569    20.0    20.0      0.0  \n",
              "1570    20.0    20.0      0.0  \n",
              "1571    20.0    20.0      0.0  \n",
              "1572    20.0    20.0      0.0  \n",
              "1573    20.0    20.0      0.0  \n",
              "\n",
              "[1574 rows x 63 columns]"
            ],
            "text/html": [
              "\n",
              "  <div id=\"df-34921138-eec1-410f-8c62-a692d165c064\">\n",
              "    <div class=\"colab-df-container\">\n",
              "      <div>\n",
              "<style scoped>\n",
              "    .dataframe tbody tr th:only-of-type {\n",
              "        vertical-align: middle;\n",
              "    }\n",
              "\n",
              "    .dataframe tbody tr th {\n",
              "        vertical-align: top;\n",
              "    }\n",
              "\n",
              "    .dataframe thead th {\n",
              "        text-align: right;\n",
              "    }\n",
              "</style>\n",
              "<table border=\"1\" class=\"dataframe\">\n",
              "  <thead>\n",
              "    <tr style=\"text-align: right;\">\n",
              "      <th></th>\n",
              "      <th>iid_pid</th>\n",
              "      <th>iid</th>\n",
              "      <th>id</th>\n",
              "      <th>gender</th>\n",
              "      <th>idg</th>\n",
              "      <th>condtn</th>\n",
              "      <th>partner</th>\n",
              "      <th>pid</th>\n",
              "      <th>int_corr</th>\n",
              "      <th>samerace</th>\n",
              "      <th>...</th>\n",
              "      <th>shopping</th>\n",
              "      <th>yoga</th>\n",
              "      <th>exphappy</th>\n",
              "      <th>expnum</th>\n",
              "      <th>attr1_1</th>\n",
              "      <th>sinc1_1</th>\n",
              "      <th>intel1_1</th>\n",
              "      <th>fun1_1</th>\n",
              "      <th>amb1_1</th>\n",
              "      <th>shar1_1</th>\n",
              "    </tr>\n",
              "  </thead>\n",
              "  <tbody>\n",
              "    <tr>\n",
              "      <th>0</th>\n",
              "      <td>6805</td>\n",
              "      <td>509</td>\n",
              "      <td>1.0</td>\n",
              "      <td>0</td>\n",
              "      <td>1</td>\n",
              "      <td>2</td>\n",
              "      <td>1</td>\n",
              "      <td>531</td>\n",
              "      <td>-0,12</td>\n",
              "      <td>1</td>\n",
              "      <td>...</td>\n",
              "      <td>7.0</td>\n",
              "      <td>7.0</td>\n",
              "      <td>6.0</td>\n",
              "      <td>NaN</td>\n",
              "      <td>10.0</td>\n",
              "      <td>20.0</td>\n",
              "      <td>30.0</td>\n",
              "      <td>10.0</td>\n",
              "      <td>10.0</td>\n",
              "      <td>20.0</td>\n",
              "    </tr>\n",
              "    <tr>\n",
              "      <th>1</th>\n",
              "      <td>6806</td>\n",
              "      <td>509</td>\n",
              "      <td>1.0</td>\n",
              "      <td>0</td>\n",
              "      <td>1</td>\n",
              "      <td>2</td>\n",
              "      <td>2</td>\n",
              "      <td>532</td>\n",
              "      <td>0,03</td>\n",
              "      <td>1</td>\n",
              "      <td>...</td>\n",
              "      <td>7.0</td>\n",
              "      <td>7.0</td>\n",
              "      <td>6.0</td>\n",
              "      <td>NaN</td>\n",
              "      <td>10.0</td>\n",
              "      <td>20.0</td>\n",
              "      <td>30.0</td>\n",
              "      <td>10.0</td>\n",
              "      <td>10.0</td>\n",
              "      <td>20.0</td>\n",
              "    </tr>\n",
              "    <tr>\n",
              "      <th>2</th>\n",
              "      <td>6807</td>\n",
              "      <td>509</td>\n",
              "      <td>1.0</td>\n",
              "      <td>0</td>\n",
              "      <td>1</td>\n",
              "      <td>2</td>\n",
              "      <td>3</td>\n",
              "      <td>533</td>\n",
              "      <td>0,37</td>\n",
              "      <td>0</td>\n",
              "      <td>...</td>\n",
              "      <td>7.0</td>\n",
              "      <td>7.0</td>\n",
              "      <td>6.0</td>\n",
              "      <td>NaN</td>\n",
              "      <td>10.0</td>\n",
              "      <td>20.0</td>\n",
              "      <td>30.0</td>\n",
              "      <td>10.0</td>\n",
              "      <td>10.0</td>\n",
              "      <td>20.0</td>\n",
              "    </tr>\n",
              "    <tr>\n",
              "      <th>3</th>\n",
              "      <td>6808</td>\n",
              "      <td>509</td>\n",
              "      <td>1.0</td>\n",
              "      <td>0</td>\n",
              "      <td>1</td>\n",
              "      <td>2</td>\n",
              "      <td>4</td>\n",
              "      <td>534</td>\n",
              "      <td>0,11</td>\n",
              "      <td>0</td>\n",
              "      <td>...</td>\n",
              "      <td>7.0</td>\n",
              "      <td>7.0</td>\n",
              "      <td>6.0</td>\n",
              "      <td>NaN</td>\n",
              "      <td>10.0</td>\n",
              "      <td>20.0</td>\n",
              "      <td>30.0</td>\n",
              "      <td>10.0</td>\n",
              "      <td>10.0</td>\n",
              "      <td>20.0</td>\n",
              "    </tr>\n",
              "    <tr>\n",
              "      <th>4</th>\n",
              "      <td>6809</td>\n",
              "      <td>509</td>\n",
              "      <td>1.0</td>\n",
              "      <td>0</td>\n",
              "      <td>1</td>\n",
              "      <td>2</td>\n",
              "      <td>5</td>\n",
              "      <td>535</td>\n",
              "      <td>0,39</td>\n",
              "      <td>0</td>\n",
              "      <td>...</td>\n",
              "      <td>7.0</td>\n",
              "      <td>7.0</td>\n",
              "      <td>6.0</td>\n",
              "      <td>NaN</td>\n",
              "      <td>10.0</td>\n",
              "      <td>20.0</td>\n",
              "      <td>30.0</td>\n",
              "      <td>10.0</td>\n",
              "      <td>10.0</td>\n",
              "      <td>20.0</td>\n",
              "    </tr>\n",
              "    <tr>\n",
              "      <th>...</th>\n",
              "      <td>...</td>\n",
              "      <td>...</td>\n",
              "      <td>...</td>\n",
              "      <td>...</td>\n",
              "      <td>...</td>\n",
              "      <td>...</td>\n",
              "      <td>...</td>\n",
              "      <td>...</td>\n",
              "      <td>...</td>\n",
              "      <td>...</td>\n",
              "      <td>...</td>\n",
              "      <td>...</td>\n",
              "      <td>...</td>\n",
              "      <td>...</td>\n",
              "      <td>...</td>\n",
              "      <td>...</td>\n",
              "      <td>...</td>\n",
              "      <td>...</td>\n",
              "      <td>...</td>\n",
              "      <td>...</td>\n",
              "      <td>...</td>\n",
              "    </tr>\n",
              "    <tr>\n",
              "      <th>1569</th>\n",
              "      <td>8374</td>\n",
              "      <td>465</td>\n",
              "      <td>6.0</td>\n",
              "      <td>1</td>\n",
              "      <td>12</td>\n",
              "      <td>1</td>\n",
              "      <td>2</td>\n",
              "      <td>455</td>\n",
              "      <td>0,41</td>\n",
              "      <td>0</td>\n",
              "      <td>...</td>\n",
              "      <td>1.0</td>\n",
              "      <td>1.0</td>\n",
              "      <td>4.0</td>\n",
              "      <td>NaN</td>\n",
              "      <td>20.0</td>\n",
              "      <td>20.0</td>\n",
              "      <td>20.0</td>\n",
              "      <td>20.0</td>\n",
              "      <td>20.0</td>\n",
              "      <td>0.0</td>\n",
              "    </tr>\n",
              "    <tr>\n",
              "      <th>1570</th>\n",
              "      <td>8375</td>\n",
              "      <td>465</td>\n",
              "      <td>6.0</td>\n",
              "      <td>1</td>\n",
              "      <td>12</td>\n",
              "      <td>1</td>\n",
              "      <td>3</td>\n",
              "      <td>456</td>\n",
              "      <td>-0,02</td>\n",
              "      <td>0</td>\n",
              "      <td>...</td>\n",
              "      <td>1.0</td>\n",
              "      <td>1.0</td>\n",
              "      <td>4.0</td>\n",
              "      <td>NaN</td>\n",
              "      <td>20.0</td>\n",
              "      <td>20.0</td>\n",
              "      <td>20.0</td>\n",
              "      <td>20.0</td>\n",
              "      <td>20.0</td>\n",
              "      <td>0.0</td>\n",
              "    </tr>\n",
              "    <tr>\n",
              "      <th>1571</th>\n",
              "      <td>8376</td>\n",
              "      <td>465</td>\n",
              "      <td>6.0</td>\n",
              "      <td>1</td>\n",
              "      <td>12</td>\n",
              "      <td>1</td>\n",
              "      <td>4</td>\n",
              "      <td>457</td>\n",
              "      <td>0,61</td>\n",
              "      <td>0</td>\n",
              "      <td>...</td>\n",
              "      <td>1.0</td>\n",
              "      <td>1.0</td>\n",
              "      <td>4.0</td>\n",
              "      <td>NaN</td>\n",
              "      <td>20.0</td>\n",
              "      <td>20.0</td>\n",
              "      <td>20.0</td>\n",
              "      <td>20.0</td>\n",
              "      <td>20.0</td>\n",
              "      <td>0.0</td>\n",
              "    </tr>\n",
              "    <tr>\n",
              "      <th>1572</th>\n",
              "      <td>8377</td>\n",
              "      <td>465</td>\n",
              "      <td>6.0</td>\n",
              "      <td>1</td>\n",
              "      <td>12</td>\n",
              "      <td>1</td>\n",
              "      <td>5</td>\n",
              "      <td>458</td>\n",
              "      <td>-0,42</td>\n",
              "      <td>0</td>\n",
              "      <td>...</td>\n",
              "      <td>1.0</td>\n",
              "      <td>1.0</td>\n",
              "      <td>4.0</td>\n",
              "      <td>NaN</td>\n",
              "      <td>20.0</td>\n",
              "      <td>20.0</td>\n",
              "      <td>20.0</td>\n",
              "      <td>20.0</td>\n",
              "      <td>20.0</td>\n",
              "      <td>0.0</td>\n",
              "    </tr>\n",
              "    <tr>\n",
              "      <th>1573</th>\n",
              "      <td>8378</td>\n",
              "      <td>465</td>\n",
              "      <td>6.0</td>\n",
              "      <td>1</td>\n",
              "      <td>12</td>\n",
              "      <td>1</td>\n",
              "      <td>6</td>\n",
              "      <td>459</td>\n",
              "      <td>0,25</td>\n",
              "      <td>0</td>\n",
              "      <td>...</td>\n",
              "      <td>1.0</td>\n",
              "      <td>1.0</td>\n",
              "      <td>4.0</td>\n",
              "      <td>NaN</td>\n",
              "      <td>20.0</td>\n",
              "      <td>20.0</td>\n",
              "      <td>20.0</td>\n",
              "      <td>20.0</td>\n",
              "      <td>20.0</td>\n",
              "      <td>0.0</td>\n",
              "    </tr>\n",
              "  </tbody>\n",
              "</table>\n",
              "<p>1574 rows × 63 columns</p>\n",
              "</div>\n",
              "      <button class=\"colab-df-convert\" onclick=\"convertToInteractive('df-34921138-eec1-410f-8c62-a692d165c064')\"\n",
              "              title=\"Convert this dataframe to an interactive table.\"\n",
              "              style=\"display:none;\">\n",
              "        \n",
              "  <svg xmlns=\"http://www.w3.org/2000/svg\" height=\"24px\"viewBox=\"0 0 24 24\"\n",
              "       width=\"24px\">\n",
              "    <path d=\"M0 0h24v24H0V0z\" fill=\"none\"/>\n",
              "    <path d=\"M18.56 5.44l.94 2.06.94-2.06 2.06-.94-2.06-.94-.94-2.06-.94 2.06-2.06.94zm-11 1L8.5 8.5l.94-2.06 2.06-.94-2.06-.94L8.5 2.5l-.94 2.06-2.06.94zm10 10l.94 2.06.94-2.06 2.06-.94-2.06-.94-.94-2.06-.94 2.06-2.06.94z\"/><path d=\"M17.41 7.96l-1.37-1.37c-.4-.4-.92-.59-1.43-.59-.52 0-1.04.2-1.43.59L10.3 9.45l-7.72 7.72c-.78.78-.78 2.05 0 2.83L4 21.41c.39.39.9.59 1.41.59.51 0 1.02-.2 1.41-.59l7.78-7.78 2.81-2.81c.8-.78.8-2.07 0-2.86zM5.41 20L4 18.59l7.72-7.72 1.47 1.35L5.41 20z\"/>\n",
              "  </svg>\n",
              "      </button>\n",
              "      \n",
              "  <style>\n",
              "    .colab-df-container {\n",
              "      display:flex;\n",
              "      flex-wrap:wrap;\n",
              "      gap: 12px;\n",
              "    }\n",
              "\n",
              "    .colab-df-convert {\n",
              "      background-color: #E8F0FE;\n",
              "      border: none;\n",
              "      border-radius: 50%;\n",
              "      cursor: pointer;\n",
              "      display: none;\n",
              "      fill: #1967D2;\n",
              "      height: 32px;\n",
              "      padding: 0 0 0 0;\n",
              "      width: 32px;\n",
              "    }\n",
              "\n",
              "    .colab-df-convert:hover {\n",
              "      background-color: #E2EBFA;\n",
              "      box-shadow: 0px 1px 2px rgba(60, 64, 67, 0.3), 0px 1px 3px 1px rgba(60, 64, 67, 0.15);\n",
              "      fill: #174EA6;\n",
              "    }\n",
              "\n",
              "    [theme=dark] .colab-df-convert {\n",
              "      background-color: #3B4455;\n",
              "      fill: #D2E3FC;\n",
              "    }\n",
              "\n",
              "    [theme=dark] .colab-df-convert:hover {\n",
              "      background-color: #434B5C;\n",
              "      box-shadow: 0px 1px 3px 1px rgba(0, 0, 0, 0.15);\n",
              "      filter: drop-shadow(0px 1px 2px rgba(0, 0, 0, 0.3));\n",
              "      fill: #FFFFFF;\n",
              "    }\n",
              "  </style>\n",
              "\n",
              "      <script>\n",
              "        const buttonEl =\n",
              "          document.querySelector('#df-34921138-eec1-410f-8c62-a692d165c064 button.colab-df-convert');\n",
              "        buttonEl.style.display =\n",
              "          google.colab.kernel.accessAllowed ? 'block' : 'none';\n",
              "\n",
              "        async function convertToInteractive(key) {\n",
              "          const element = document.querySelector('#df-34921138-eec1-410f-8c62-a692d165c064');\n",
              "          const dataTable =\n",
              "            await google.colab.kernel.invokeFunction('convertToInteractive',\n",
              "                                                     [key], {});\n",
              "          if (!dataTable) return;\n",
              "\n",
              "          const docLinkHtml = 'Like what you see? Visit the ' +\n",
              "            '<a target=\"_blank\" href=https://colab.research.google.com/notebooks/data_table.ipynb>data table notebook</a>'\n",
              "            + ' to learn more about interactive tables.';\n",
              "          element.innerHTML = '';\n",
              "          dataTable['output_type'] = 'display_data';\n",
              "          await google.colab.output.renderOutput(dataTable, element);\n",
              "          const docLink = document.createElement('div');\n",
              "          docLink.innerHTML = docLinkHtml;\n",
              "          element.appendChild(docLink);\n",
              "        }\n",
              "      </script>\n",
              "    </div>\n",
              "  </div>\n",
              "  "
            ]
          },
          "metadata": {},
          "execution_count": 3
        }
      ]
    },
    {
      "cell_type": "code",
      "source": [
        "df.info()"
      ],
      "metadata": {
        "colab": {
          "base_uri": "https://localhost:8080/"
        },
        "id": "4IVNZZVCxxRq",
        "outputId": "808817ae-1ee0-4fb6-c28b-456e35fe16be"
      },
      "execution_count": null,
      "outputs": [
        {
          "output_type": "stream",
          "name": "stdout",
          "text": [
            "<class 'pandas.core.frame.DataFrame'>\n",
            "RangeIndex: 6804 entries, 0 to 6803\n",
            "Data columns (total 70 columns):\n",
            " #   Column    Non-Null Count  Dtype  \n",
            "---  ------    --------------  -----  \n",
            " 0   iid_pid   6804 non-null   int64  \n",
            " 1   iid       6804 non-null   int64  \n",
            " 2   id        6804 non-null   int64  \n",
            " 3   gender    6804 non-null   int64  \n",
            " 4   idg       6804 non-null   int64  \n",
            " 5   condtn    6804 non-null   int64  \n",
            " 6   wave      6804 non-null   int64  \n",
            " 7   round     6804 non-null   int64  \n",
            " 8   position  6804 non-null   int64  \n",
            " 9   positin1  4958 non-null   float64\n",
            " 10  order     6804 non-null   int64  \n",
            " 11  partner   6804 non-null   int64  \n",
            " 12  pid       6794 non-null   float64\n",
            " 13  match     6804 non-null   int64  \n",
            " 14  int_corr  6646 non-null   object \n",
            " 15  samerace  6804 non-null   int64  \n",
            " 16  age_o     6722 non-null   float64\n",
            " 17  race_o    6731 non-null   float64\n",
            " 18  pf_o_att  6715 non-null   object \n",
            " 19  pf_o_sin  6715 non-null   object \n",
            " 20  pf_o_int  6715 non-null   object \n",
            " 21  pf_o_fun  6706 non-null   object \n",
            " 22  pf_o_amb  6697 non-null   object \n",
            " 23  pf_o_sha  6697 non-null   object \n",
            " 24  dec_o     6804 non-null   int64  \n",
            " 25  attr_o    6663 non-null   float64\n",
            " 26  sinc_o    6597 non-null   float64\n",
            " 27  intel_o   6575 non-null   float64\n",
            " 28  fun_o     6527 non-null   float64\n",
            " 29  amb_o     6223 non-null   float64\n",
            " 30  shar_o    5881 non-null   float64\n",
            " 31  age       6731 non-null   float64\n",
            " 32  field     6741 non-null   object \n",
            " 33  field_cd  6722 non-null   float64\n",
            " 34  race      6741 non-null   float64\n",
            " 35  imprace   6725 non-null   float64\n",
            " 36  imprelig  6725 non-null   float64\n",
            " 37  from      6725 non-null   object \n",
            " 38  zipcode   5908 non-null   object \n",
            " 39  income    3556 non-null   object \n",
            " 40  goal      6725 non-null   float64\n",
            " 41  date      6707 non-null   float64\n",
            " 42  go_out    6725 non-null   float64\n",
            " 43  career    6715 non-null   object \n",
            " 44  career_c  6652 non-null   float64\n",
            " 45  sports    6711 non-null   float64\n",
            " 46  tvsports  6711 non-null   float64\n",
            " 47  exercise  6711 non-null   float64\n",
            " 48  dining    6711 non-null   float64\n",
            " 49  museums   6711 non-null   float64\n",
            " 50  art       6711 non-null   float64\n",
            " 51  hiking    6711 non-null   float64\n",
            " 52  gaming    6711 non-null   float64\n",
            " 53  clubbing  6711 non-null   float64\n",
            " 54  reading   6711 non-null   float64\n",
            " 55  tv        6711 non-null   float64\n",
            " 56  theater   6711 non-null   float64\n",
            " 57  movies    6711 non-null   float64\n",
            " 58  concerts  6711 non-null   float64\n",
            " 59  music     6711 non-null   float64\n",
            " 60  shopping  6711 non-null   float64\n",
            " 61  yoga      6711 non-null   float64\n",
            " 62  exphappy  6711 non-null   float64\n",
            " 63  expnum    1800 non-null   float64\n",
            " 64  attr1_1   6711 non-null   object \n",
            " 65  sinc1_1   6711 non-null   object \n",
            " 66  intel1_1  6711 non-null   object \n",
            " 67  fun1_1    6701 non-null   object \n",
            " 68  amb1_1    6691 non-null   object \n",
            " 69  shar1_1   6691 non-null   object \n",
            "dtypes: float64(38), int64(14), object(18)\n",
            "memory usage: 3.6+ MB\n"
          ]
        }
      ]
    },
    {
      "cell_type": "markdown",
      "source": [
        "### SUPPRESSION des colonnes superflues : \n",
        "\n",
        "celles liées aux id (iid_pid,iid,id,idg,pid,partner)\n",
        "\n",
        "---\n",
        "\n",
        "celles liées à la carrière/champ qui se répètent (career,career_c,field) : j'ai gardé juste field_cd\n",
        "\n",
        "---\n",
        "\n",
        "celles liées au numéro des places/stations (position,positin1)\n",
        "\n",
        "---\n",
        "\n",
        "suppression de from et zipcode\n",
        "\n",
        "\n"
      ],
      "metadata": {
        "id": "1P5BodgFyRLJ"
      }
    },
    {
      "cell_type": "code",
      "source": [
        "df=df.drop(['iid','id','idg','pid','partner','career','career_c','field','zipcode','from','expnum','race','race_o','field_cd'],axis=1)"
      ],
      "metadata": {
        "id": "eEX6pmCRxxVy"
      },
      "execution_count": null,
      "outputs": []
    },
    {
      "cell_type": "markdown",
      "source": [
        "###On enlève les virgules + transtypage"
      ],
      "metadata": {
        "id": "qLReI2xo09LS"
      }
    },
    {
      "cell_type": "code",
      "source": [
        "df['income']=df['income'].replace(\",\",\"\",regex=True)"
      ],
      "metadata": {
        "id": "c0VVLpzX05Uh"
      },
      "execution_count": null,
      "outputs": []
    },
    {
      "cell_type": "code",
      "source": [
        "df=df.replace(\",\",\".\",regex=True)"
      ],
      "metadata": {
        "id": "NUHj-Wnu05ZJ"
      },
      "execution_count": null,
      "outputs": []
    },
    {
      "cell_type": "code",
      "source": [
        "col=df.select_dtypes(include=['object']).columns\n",
        "df[col]=df[col].astype(float)"
      ],
      "metadata": {
        "id": "Lif_cBAq05eF"
      },
      "execution_count": null,
      "outputs": []
    },
    {
      "cell_type": "markdown",
      "source": [
        "###One hot encoding sur var qualitatives\n",
        "\n",
        "---\n",
        "\n",
        "c'est à dire : field_cd,race,race_o\n",
        "\n",
        "---\n",
        "\n",
        "Au final tout est en commentaire car nous avons choisi de simplement supprimer les différentes var qualitatives. Nous avons déjà beaucoup de variables à exploiter pour notre modèles, et après plusieurs tests, nous avons jugé qu'un one hot encoding rajoutait beaucoup de colonnes superflues"
      ],
      "metadata": {
        "id": "4Wb8anvI0BuC"
      }
    },
    {
      "cell_type": "code",
      "source": [
        "#field=pd.get_dummies(df['field_cd'])"
      ],
      "metadata": {
        "id": "vTeJpNBhxxcS"
      },
      "execution_count": null,
      "outputs": []
    },
    {
      "cell_type": "code",
      "source": [
        "#field.columns = ['Law','Math','Psychologist','Medical','Engineering','Journalism','History','Business','Education','Biologie','Social','Undergrad','Politics','Film','Arts','Languages','Architecture']"
      ],
      "metadata": {
        "id": "QbCgE7Zy50E6"
      },
      "execution_count": null,
      "outputs": []
    },
    {
      "cell_type": "code",
      "source": [
        "#race=pd.get_dummies(df['race'])"
      ],
      "metadata": {
        "id": "gi909t5n7rwp"
      },
      "execution_count": null,
      "outputs": []
    },
    {
      "cell_type": "code",
      "source": [
        "#race.columns = ['Black','European','Latino','Asian','other']"
      ],
      "metadata": {
        "id": "_Fu1shwb7ryx"
      },
      "execution_count": null,
      "outputs": []
    },
    {
      "cell_type": "code",
      "source": [
        "#race_o=pd.get_dummies(df['race_o'])"
      ],
      "metadata": {
        "id": "kSBzYYNe9MMh"
      },
      "execution_count": null,
      "outputs": []
    },
    {
      "cell_type": "code",
      "source": [
        "#race_o.columns = ['Black','European','Latino','Asian','other']"
      ],
      "metadata": {
        "id": "mH6Hl7QU9MOl"
      },
      "execution_count": null,
      "outputs": []
    },
    {
      "cell_type": "code",
      "source": [
        "#df=df.drop(['field_cd','race','race_o'],axis=1)"
      ],
      "metadata": {
        "id": "qvNSkJN49Ur6"
      },
      "execution_count": null,
      "outputs": []
    },
    {
      "cell_type": "code",
      "source": [
        "#df=pd.concat([df,field,race,race_o],axis=1)"
      ],
      "metadata": {
        "id": "5hckLL2L-hqC"
      },
      "execution_count": null,
      "outputs": []
    },
    {
      "cell_type": "code",
      "source": [
        "#df"
      ],
      "metadata": {
        "id": "JraF12AAxxgc"
      },
      "execution_count": null,
      "outputs": []
    },
    {
      "cell_type": "markdown",
      "source": [
        "### Imputation des valeurs manquantes\n",
        "\n",
        "---\n",
        "\n",
        "utilisation d'un KNNImputer"
      ],
      "metadata": {
        "id": "g-ncTp3R2U1i"
      }
    },
    {
      "cell_type": "code",
      "source": [
        "import numpy as np\n",
        "from sklearn.impute import KNNImputer"
      ],
      "metadata": {
        "id": "5Sk9wj0I2WSq"
      },
      "execution_count": null,
      "outputs": []
    },
    {
      "cell_type": "code",
      "source": [
        "pd.set_option('display.max_rows',None)\n",
        "df.isna().sum()"
      ],
      "metadata": {
        "colab": {
          "base_uri": "https://localhost:8080/"
        },
        "id": "BpDVxJY62WU5",
        "outputId": "54ce22cf-b176-409e-8822-f33842233835"
      },
      "execution_count": null,
      "outputs": [
        {
          "output_type": "execute_result",
          "data": {
            "text/plain": [
              "iid_pid       0\n",
              "gender        0\n",
              "condtn        0\n",
              "int_corr      0\n",
              "samerace      0\n",
              "age_o        22\n",
              "pf_o_att      0\n",
              "pf_o_sin      0\n",
              "pf_o_int      0\n",
              "pf_o_fun      0\n",
              "pf_o_amb      0\n",
              "pf_o_sha     22\n",
              "attr_o       71\n",
              "sinc_o       80\n",
              "intel_o      77\n",
              "fun_o        83\n",
              "amb_o       141\n",
              "shar_o      153\n",
              "age          22\n",
              "imprace       0\n",
              "imprelig      0\n",
              "income      851\n",
              "goal          0\n",
              "date          0\n",
              "go_out        0\n",
              "sports       15\n",
              "tvsports     15\n",
              "exercise     15\n",
              "dining       15\n",
              "museums      15\n",
              "art          15\n",
              "hiking       15\n",
              "gaming       15\n",
              "clubbing     15\n",
              "reading      15\n",
              "tv           15\n",
              "theater      15\n",
              "movies       15\n",
              "concerts     15\n",
              "music        15\n",
              "shopping     15\n",
              "yoga         15\n",
              "exphappy     37\n",
              "attr1_1      15\n",
              "sinc1_1      15\n",
              "intel1_1     15\n",
              "fun1_1       15\n",
              "amb1_1       15\n",
              "shar1_1      37\n",
              "dtype: int64"
            ]
          },
          "metadata": {},
          "execution_count": 8
        }
      ]
    },
    {
      "cell_type": "code",
      "source": [
        "id=df['iid_pid']\n",
        "df=df.drop(['iid_pid'],axis=1)\n",
        "df"
      ],
      "metadata": {
        "colab": {
          "base_uri": "https://localhost:8080/",
          "height": 424
        },
        "id": "8ruzua-iMmb1",
        "outputId": "f4d6e011-bed7-4390-98ac-4329b12cb2d9"
      },
      "execution_count": null,
      "outputs": [
        {
          "output_type": "execute_result",
          "data": {
            "text/plain": [
              "      gender  condtn  int_corr  samerace  age_o  pf_o_att  pf_o_sin  pf_o_int  \\\n",
              "0          0       2     -0.12         1   25.0        15        30        20   \n",
              "1          0       2      0.03         1   26.0        25        20        20   \n",
              "2          0       2      0.37         0   26.0        25        25        25   \n",
              "3          0       2      0.11         0   24.0        30        30        30   \n",
              "4          0       2      0.39         0   23.0        23        14        19   \n",
              "...      ...     ...       ...       ...    ...       ...       ...       ...   \n",
              "1569       1       1      0.41         0   24.0        10        25        20   \n",
              "1570       1       1     -0.02         0   29.0        25        20        15   \n",
              "1571       1       1      0.61         0   55.0        25         0        25   \n",
              "1572       1       1     -0.42         0   29.0        50         5        25   \n",
              "1573       1       1      0.25         0   26.0        30        10        10   \n",
              "\n",
              "      pf_o_fun  pf_o_amb  ...  music  shopping  yoga  exphappy  attr1_1  \\\n",
              "0           20        10  ...    7.0       7.0   7.0       6.0     10.0   \n",
              "1           20         5  ...    7.0       7.0   7.0       6.0     10.0   \n",
              "2           13        12  ...    7.0       7.0   7.0       6.0     10.0   \n",
              "3            5         2  ...    7.0       7.0   7.0       6.0     10.0   \n",
              "4           16        10  ...    7.0       7.0   7.0       6.0     10.0   \n",
              "...        ...       ...  ...    ...       ...   ...       ...      ...   \n",
              "1569        16        20  ...   10.0       1.0   1.0       4.0     20.0   \n",
              "1570        10        15  ...   10.0       1.0   1.0       4.0     20.0   \n",
              "1571        25         0  ...   10.0       1.0   1.0       4.0     20.0   \n",
              "1572        20         0  ...   10.0       1.0   1.0       4.0     20.0   \n",
              "1573        30        10  ...   10.0       1.0   1.0       4.0     20.0   \n",
              "\n",
              "      sinc1_1  intel1_1  fun1_1  amb1_1  shar1_1  \n",
              "0        20.0      30.0    10.0    10.0     20.0  \n",
              "1        20.0      30.0    10.0    10.0     20.0  \n",
              "2        20.0      30.0    10.0    10.0     20.0  \n",
              "3        20.0      30.0    10.0    10.0     20.0  \n",
              "4        20.0      30.0    10.0    10.0     20.0  \n",
              "...       ...       ...     ...     ...      ...  \n",
              "1569     20.0      20.0    20.0    20.0      0.0  \n",
              "1570     20.0      20.0    20.0    20.0      0.0  \n",
              "1571     20.0      20.0    20.0    20.0      0.0  \n",
              "1572     20.0      20.0    20.0    20.0      0.0  \n",
              "1573     20.0      20.0    20.0    20.0      0.0  \n",
              "\n",
              "[1574 rows x 48 columns]"
            ],
            "text/html": [
              "\n",
              "  <div id=\"df-31d7cddd-5b59-4fe4-bcdf-db61b793cf76\">\n",
              "    <div class=\"colab-df-container\">\n",
              "      <div>\n",
              "<style scoped>\n",
              "    .dataframe tbody tr th:only-of-type {\n",
              "        vertical-align: middle;\n",
              "    }\n",
              "\n",
              "    .dataframe tbody tr th {\n",
              "        vertical-align: top;\n",
              "    }\n",
              "\n",
              "    .dataframe thead th {\n",
              "        text-align: right;\n",
              "    }\n",
              "</style>\n",
              "<table border=\"1\" class=\"dataframe\">\n",
              "  <thead>\n",
              "    <tr style=\"text-align: right;\">\n",
              "      <th></th>\n",
              "      <th>gender</th>\n",
              "      <th>condtn</th>\n",
              "      <th>int_corr</th>\n",
              "      <th>samerace</th>\n",
              "      <th>age_o</th>\n",
              "      <th>pf_o_att</th>\n",
              "      <th>pf_o_sin</th>\n",
              "      <th>pf_o_int</th>\n",
              "      <th>pf_o_fun</th>\n",
              "      <th>pf_o_amb</th>\n",
              "      <th>...</th>\n",
              "      <th>music</th>\n",
              "      <th>shopping</th>\n",
              "      <th>yoga</th>\n",
              "      <th>exphappy</th>\n",
              "      <th>attr1_1</th>\n",
              "      <th>sinc1_1</th>\n",
              "      <th>intel1_1</th>\n",
              "      <th>fun1_1</th>\n",
              "      <th>amb1_1</th>\n",
              "      <th>shar1_1</th>\n",
              "    </tr>\n",
              "  </thead>\n",
              "  <tbody>\n",
              "    <tr>\n",
              "      <th>0</th>\n",
              "      <td>0</td>\n",
              "      <td>2</td>\n",
              "      <td>-0.12</td>\n",
              "      <td>1</td>\n",
              "      <td>25.0</td>\n",
              "      <td>15</td>\n",
              "      <td>30</td>\n",
              "      <td>20</td>\n",
              "      <td>20</td>\n",
              "      <td>10</td>\n",
              "      <td>...</td>\n",
              "      <td>7.0</td>\n",
              "      <td>7.0</td>\n",
              "      <td>7.0</td>\n",
              "      <td>6.0</td>\n",
              "      <td>10.0</td>\n",
              "      <td>20.0</td>\n",
              "      <td>30.0</td>\n",
              "      <td>10.0</td>\n",
              "      <td>10.0</td>\n",
              "      <td>20.0</td>\n",
              "    </tr>\n",
              "    <tr>\n",
              "      <th>1</th>\n",
              "      <td>0</td>\n",
              "      <td>2</td>\n",
              "      <td>0.03</td>\n",
              "      <td>1</td>\n",
              "      <td>26.0</td>\n",
              "      <td>25</td>\n",
              "      <td>20</td>\n",
              "      <td>20</td>\n",
              "      <td>20</td>\n",
              "      <td>5</td>\n",
              "      <td>...</td>\n",
              "      <td>7.0</td>\n",
              "      <td>7.0</td>\n",
              "      <td>7.0</td>\n",
              "      <td>6.0</td>\n",
              "      <td>10.0</td>\n",
              "      <td>20.0</td>\n",
              "      <td>30.0</td>\n",
              "      <td>10.0</td>\n",
              "      <td>10.0</td>\n",
              "      <td>20.0</td>\n",
              "    </tr>\n",
              "    <tr>\n",
              "      <th>2</th>\n",
              "      <td>0</td>\n",
              "      <td>2</td>\n",
              "      <td>0.37</td>\n",
              "      <td>0</td>\n",
              "      <td>26.0</td>\n",
              "      <td>25</td>\n",
              "      <td>25</td>\n",
              "      <td>25</td>\n",
              "      <td>13</td>\n",
              "      <td>12</td>\n",
              "      <td>...</td>\n",
              "      <td>7.0</td>\n",
              "      <td>7.0</td>\n",
              "      <td>7.0</td>\n",
              "      <td>6.0</td>\n",
              "      <td>10.0</td>\n",
              "      <td>20.0</td>\n",
              "      <td>30.0</td>\n",
              "      <td>10.0</td>\n",
              "      <td>10.0</td>\n",
              "      <td>20.0</td>\n",
              "    </tr>\n",
              "    <tr>\n",
              "      <th>3</th>\n",
              "      <td>0</td>\n",
              "      <td>2</td>\n",
              "      <td>0.11</td>\n",
              "      <td>0</td>\n",
              "      <td>24.0</td>\n",
              "      <td>30</td>\n",
              "      <td>30</td>\n",
              "      <td>30</td>\n",
              "      <td>5</td>\n",
              "      <td>2</td>\n",
              "      <td>...</td>\n",
              "      <td>7.0</td>\n",
              "      <td>7.0</td>\n",
              "      <td>7.0</td>\n",
              "      <td>6.0</td>\n",
              "      <td>10.0</td>\n",
              "      <td>20.0</td>\n",
              "      <td>30.0</td>\n",
              "      <td>10.0</td>\n",
              "      <td>10.0</td>\n",
              "      <td>20.0</td>\n",
              "    </tr>\n",
              "    <tr>\n",
              "      <th>4</th>\n",
              "      <td>0</td>\n",
              "      <td>2</td>\n",
              "      <td>0.39</td>\n",
              "      <td>0</td>\n",
              "      <td>23.0</td>\n",
              "      <td>23</td>\n",
              "      <td>14</td>\n",
              "      <td>19</td>\n",
              "      <td>16</td>\n",
              "      <td>10</td>\n",
              "      <td>...</td>\n",
              "      <td>7.0</td>\n",
              "      <td>7.0</td>\n",
              "      <td>7.0</td>\n",
              "      <td>6.0</td>\n",
              "      <td>10.0</td>\n",
              "      <td>20.0</td>\n",
              "      <td>30.0</td>\n",
              "      <td>10.0</td>\n",
              "      <td>10.0</td>\n",
              "      <td>20.0</td>\n",
              "    </tr>\n",
              "    <tr>\n",
              "      <th>...</th>\n",
              "      <td>...</td>\n",
              "      <td>...</td>\n",
              "      <td>...</td>\n",
              "      <td>...</td>\n",
              "      <td>...</td>\n",
              "      <td>...</td>\n",
              "      <td>...</td>\n",
              "      <td>...</td>\n",
              "      <td>...</td>\n",
              "      <td>...</td>\n",
              "      <td>...</td>\n",
              "      <td>...</td>\n",
              "      <td>...</td>\n",
              "      <td>...</td>\n",
              "      <td>...</td>\n",
              "      <td>...</td>\n",
              "      <td>...</td>\n",
              "      <td>...</td>\n",
              "      <td>...</td>\n",
              "      <td>...</td>\n",
              "      <td>...</td>\n",
              "    </tr>\n",
              "    <tr>\n",
              "      <th>1569</th>\n",
              "      <td>1</td>\n",
              "      <td>1</td>\n",
              "      <td>0.41</td>\n",
              "      <td>0</td>\n",
              "      <td>24.0</td>\n",
              "      <td>10</td>\n",
              "      <td>25</td>\n",
              "      <td>20</td>\n",
              "      <td>16</td>\n",
              "      <td>20</td>\n",
              "      <td>...</td>\n",
              "      <td>10.0</td>\n",
              "      <td>1.0</td>\n",
              "      <td>1.0</td>\n",
              "      <td>4.0</td>\n",
              "      <td>20.0</td>\n",
              "      <td>20.0</td>\n",
              "      <td>20.0</td>\n",
              "      <td>20.0</td>\n",
              "      <td>20.0</td>\n",
              "      <td>0.0</td>\n",
              "    </tr>\n",
              "    <tr>\n",
              "      <th>1570</th>\n",
              "      <td>1</td>\n",
              "      <td>1</td>\n",
              "      <td>-0.02</td>\n",
              "      <td>0</td>\n",
              "      <td>29.0</td>\n",
              "      <td>25</td>\n",
              "      <td>20</td>\n",
              "      <td>15</td>\n",
              "      <td>10</td>\n",
              "      <td>15</td>\n",
              "      <td>...</td>\n",
              "      <td>10.0</td>\n",
              "      <td>1.0</td>\n",
              "      <td>1.0</td>\n",
              "      <td>4.0</td>\n",
              "      <td>20.0</td>\n",
              "      <td>20.0</td>\n",
              "      <td>20.0</td>\n",
              "      <td>20.0</td>\n",
              "      <td>20.0</td>\n",
              "      <td>0.0</td>\n",
              "    </tr>\n",
              "    <tr>\n",
              "      <th>1571</th>\n",
              "      <td>1</td>\n",
              "      <td>1</td>\n",
              "      <td>0.61</td>\n",
              "      <td>0</td>\n",
              "      <td>55.0</td>\n",
              "      <td>25</td>\n",
              "      <td>0</td>\n",
              "      <td>25</td>\n",
              "      <td>25</td>\n",
              "      <td>0</td>\n",
              "      <td>...</td>\n",
              "      <td>10.0</td>\n",
              "      <td>1.0</td>\n",
              "      <td>1.0</td>\n",
              "      <td>4.0</td>\n",
              "      <td>20.0</td>\n",
              "      <td>20.0</td>\n",
              "      <td>20.0</td>\n",
              "      <td>20.0</td>\n",
              "      <td>20.0</td>\n",
              "      <td>0.0</td>\n",
              "    </tr>\n",
              "    <tr>\n",
              "      <th>1572</th>\n",
              "      <td>1</td>\n",
              "      <td>1</td>\n",
              "      <td>-0.42</td>\n",
              "      <td>0</td>\n",
              "      <td>29.0</td>\n",
              "      <td>50</td>\n",
              "      <td>5</td>\n",
              "      <td>25</td>\n",
              "      <td>20</td>\n",
              "      <td>0</td>\n",
              "      <td>...</td>\n",
              "      <td>10.0</td>\n",
              "      <td>1.0</td>\n",
              "      <td>1.0</td>\n",
              "      <td>4.0</td>\n",
              "      <td>20.0</td>\n",
              "      <td>20.0</td>\n",
              "      <td>20.0</td>\n",
              "      <td>20.0</td>\n",
              "      <td>20.0</td>\n",
              "      <td>0.0</td>\n",
              "    </tr>\n",
              "    <tr>\n",
              "      <th>1573</th>\n",
              "      <td>1</td>\n",
              "      <td>1</td>\n",
              "      <td>0.25</td>\n",
              "      <td>0</td>\n",
              "      <td>26.0</td>\n",
              "      <td>30</td>\n",
              "      <td>10</td>\n",
              "      <td>10</td>\n",
              "      <td>30</td>\n",
              "      <td>10</td>\n",
              "      <td>...</td>\n",
              "      <td>10.0</td>\n",
              "      <td>1.0</td>\n",
              "      <td>1.0</td>\n",
              "      <td>4.0</td>\n",
              "      <td>20.0</td>\n",
              "      <td>20.0</td>\n",
              "      <td>20.0</td>\n",
              "      <td>20.0</td>\n",
              "      <td>20.0</td>\n",
              "      <td>0.0</td>\n",
              "    </tr>\n",
              "  </tbody>\n",
              "</table>\n",
              "<p>1574 rows × 48 columns</p>\n",
              "</div>\n",
              "      <button class=\"colab-df-convert\" onclick=\"convertToInteractive('df-31d7cddd-5b59-4fe4-bcdf-db61b793cf76')\"\n",
              "              title=\"Convert this dataframe to an interactive table.\"\n",
              "              style=\"display:none;\">\n",
              "        \n",
              "  <svg xmlns=\"http://www.w3.org/2000/svg\" height=\"24px\"viewBox=\"0 0 24 24\"\n",
              "       width=\"24px\">\n",
              "    <path d=\"M0 0h24v24H0V0z\" fill=\"none\"/>\n",
              "    <path d=\"M18.56 5.44l.94 2.06.94-2.06 2.06-.94-2.06-.94-.94-2.06-.94 2.06-2.06.94zm-11 1L8.5 8.5l.94-2.06 2.06-.94-2.06-.94L8.5 2.5l-.94 2.06-2.06.94zm10 10l.94 2.06.94-2.06 2.06-.94-2.06-.94-.94-2.06-.94 2.06-2.06.94z\"/><path d=\"M17.41 7.96l-1.37-1.37c-.4-.4-.92-.59-1.43-.59-.52 0-1.04.2-1.43.59L10.3 9.45l-7.72 7.72c-.78.78-.78 2.05 0 2.83L4 21.41c.39.39.9.59 1.41.59.51 0 1.02-.2 1.41-.59l7.78-7.78 2.81-2.81c.8-.78.8-2.07 0-2.86zM5.41 20L4 18.59l7.72-7.72 1.47 1.35L5.41 20z\"/>\n",
              "  </svg>\n",
              "      </button>\n",
              "      \n",
              "  <style>\n",
              "    .colab-df-container {\n",
              "      display:flex;\n",
              "      flex-wrap:wrap;\n",
              "      gap: 12px;\n",
              "    }\n",
              "\n",
              "    .colab-df-convert {\n",
              "      background-color: #E8F0FE;\n",
              "      border: none;\n",
              "      border-radius: 50%;\n",
              "      cursor: pointer;\n",
              "      display: none;\n",
              "      fill: #1967D2;\n",
              "      height: 32px;\n",
              "      padding: 0 0 0 0;\n",
              "      width: 32px;\n",
              "    }\n",
              "\n",
              "    .colab-df-convert:hover {\n",
              "      background-color: #E2EBFA;\n",
              "      box-shadow: 0px 1px 2px rgba(60, 64, 67, 0.3), 0px 1px 3px 1px rgba(60, 64, 67, 0.15);\n",
              "      fill: #174EA6;\n",
              "    }\n",
              "\n",
              "    [theme=dark] .colab-df-convert {\n",
              "      background-color: #3B4455;\n",
              "      fill: #D2E3FC;\n",
              "    }\n",
              "\n",
              "    [theme=dark] .colab-df-convert:hover {\n",
              "      background-color: #434B5C;\n",
              "      box-shadow: 0px 1px 3px 1px rgba(0, 0, 0, 0.15);\n",
              "      filter: drop-shadow(0px 1px 2px rgba(0, 0, 0, 0.3));\n",
              "      fill: #FFFFFF;\n",
              "    }\n",
              "  </style>\n",
              "\n",
              "      <script>\n",
              "        const buttonEl =\n",
              "          document.querySelector('#df-31d7cddd-5b59-4fe4-bcdf-db61b793cf76 button.colab-df-convert');\n",
              "        buttonEl.style.display =\n",
              "          google.colab.kernel.accessAllowed ? 'block' : 'none';\n",
              "\n",
              "        async function convertToInteractive(key) {\n",
              "          const element = document.querySelector('#df-31d7cddd-5b59-4fe4-bcdf-db61b793cf76');\n",
              "          const dataTable =\n",
              "            await google.colab.kernel.invokeFunction('convertToInteractive',\n",
              "                                                     [key], {});\n",
              "          if (!dataTable) return;\n",
              "\n",
              "          const docLinkHtml = 'Like what you see? Visit the ' +\n",
              "            '<a target=\"_blank\" href=https://colab.research.google.com/notebooks/data_table.ipynb>data table notebook</a>'\n",
              "            + ' to learn more about interactive tables.';\n",
              "          element.innerHTML = '';\n",
              "          dataTable['output_type'] = 'display_data';\n",
              "          await google.colab.output.renderOutput(dataTable, element);\n",
              "          const docLink = document.createElement('div');\n",
              "          docLink.innerHTML = docLinkHtml;\n",
              "          element.appendChild(docLink);\n",
              "        }\n",
              "      </script>\n",
              "    </div>\n",
              "  </div>\n",
              "  "
            ]
          },
          "metadata": {},
          "execution_count": 90
        }
      ]
    },
    {
      "cell_type": "code",
      "source": [
        "imputer = KNNImputer(n_neighbors=10, weights=\"distance\")\n",
        "df = pd.DataFrame(imputer.fit_transform(df), columns = df.columns)"
      ],
      "metadata": {
        "id": "AqGBYbwJAdgM"
      },
      "execution_count": null,
      "outputs": []
    },
    {
      "cell_type": "code",
      "source": [
        "pd.set_option('display.max_rows',None)\n",
        "df.isna().sum()"
      ],
      "metadata": {
        "colab": {
          "base_uri": "https://localhost:8080/"
        },
        "id": "DepSci1sA6dC",
        "outputId": "b468e3ab-84fb-419b-b4ec-fc389083f85f"
      },
      "execution_count": null,
      "outputs": [
        {
          "output_type": "execute_result",
          "data": {
            "text/plain": [
              "gender      0\n",
              "condtn      0\n",
              "int_corr    0\n",
              "samerace    0\n",
              "age_o       0\n",
              "pf_o_att    0\n",
              "pf_o_sin    0\n",
              "pf_o_int    0\n",
              "pf_o_fun    0\n",
              "pf_o_amb    0\n",
              "pf_o_sha    0\n",
              "attr_o      0\n",
              "sinc_o      0\n",
              "intel_o     0\n",
              "fun_o       0\n",
              "amb_o       0\n",
              "shar_o      0\n",
              "age         0\n",
              "imprace     0\n",
              "imprelig    0\n",
              "income      0\n",
              "goal        0\n",
              "date        0\n",
              "go_out      0\n",
              "sports      0\n",
              "tvsports    0\n",
              "exercise    0\n",
              "dining      0\n",
              "museums     0\n",
              "art         0\n",
              "hiking      0\n",
              "gaming      0\n",
              "clubbing    0\n",
              "reading     0\n",
              "tv          0\n",
              "theater     0\n",
              "movies      0\n",
              "concerts    0\n",
              "music       0\n",
              "shopping    0\n",
              "yoga        0\n",
              "exphappy    0\n",
              "attr1_1     0\n",
              "sinc1_1     0\n",
              "intel1_1    0\n",
              "fun1_1      0\n",
              "amb1_1      0\n",
              "shar1_1     0\n",
              "dtype: int64"
            ]
          },
          "metadata": {},
          "execution_count": 91
        }
      ]
    },
    {
      "cell_type": "code",
      "source": [
        "XTestsubmit=pd.concat([id,df],axis=1)"
      ],
      "metadata": {
        "id": "PT23JbDvNLKE"
      },
      "execution_count": null,
      "outputs": []
    },
    {
      "cell_type": "code",
      "source": [
        "XTestsubmit.info()"
      ],
      "metadata": {
        "colab": {
          "base_uri": "https://localhost:8080/"
        },
        "id": "OYHUhJz9ajun",
        "outputId": "734c7a68-ad76-4a6c-f2db-4203026c1b61"
      },
      "execution_count": null,
      "outputs": [
        {
          "output_type": "stream",
          "name": "stdout",
          "text": [
            "<class 'pandas.core.frame.DataFrame'>\n",
            "RangeIndex: 1574 entries, 0 to 1573\n",
            "Data columns (total 49 columns):\n",
            " #   Column    Non-Null Count  Dtype  \n",
            "---  ------    --------------  -----  \n",
            " 0   iid_pid   1574 non-null   int64  \n",
            " 1   gender    1574 non-null   float64\n",
            " 2   condtn    1574 non-null   float64\n",
            " 3   int_corr  1574 non-null   float64\n",
            " 4   samerace  1574 non-null   float64\n",
            " 5   age_o     1574 non-null   float64\n",
            " 6   pf_o_att  1574 non-null   float64\n",
            " 7   pf_o_sin  1574 non-null   float64\n",
            " 8   pf_o_int  1574 non-null   float64\n",
            " 9   pf_o_fun  1574 non-null   float64\n",
            " 10  pf_o_amb  1574 non-null   float64\n",
            " 11  pf_o_sha  1574 non-null   float64\n",
            " 12  attr_o    1574 non-null   float64\n",
            " 13  sinc_o    1574 non-null   float64\n",
            " 14  intel_o   1574 non-null   float64\n",
            " 15  fun_o     1574 non-null   float64\n",
            " 16  amb_o     1574 non-null   float64\n",
            " 17  shar_o    1574 non-null   float64\n",
            " 18  age       1574 non-null   float64\n",
            " 19  imprace   1574 non-null   float64\n",
            " 20  imprelig  1574 non-null   float64\n",
            " 21  income    1574 non-null   float64\n",
            " 22  goal      1574 non-null   float64\n",
            " 23  date      1574 non-null   float64\n",
            " 24  go_out    1574 non-null   float64\n",
            " 25  sports    1574 non-null   float64\n",
            " 26  tvsports  1574 non-null   float64\n",
            " 27  exercise  1574 non-null   float64\n",
            " 28  dining    1574 non-null   float64\n",
            " 29  museums   1574 non-null   float64\n",
            " 30  art       1574 non-null   float64\n",
            " 31  hiking    1574 non-null   float64\n",
            " 32  gaming    1574 non-null   float64\n",
            " 33  clubbing  1574 non-null   float64\n",
            " 34  reading   1574 non-null   float64\n",
            " 35  tv        1574 non-null   float64\n",
            " 36  theater   1574 non-null   float64\n",
            " 37  movies    1574 non-null   float64\n",
            " 38  concerts  1574 non-null   float64\n",
            " 39  music     1574 non-null   float64\n",
            " 40  shopping  1574 non-null   float64\n",
            " 41  yoga      1574 non-null   float64\n",
            " 42  exphappy  1574 non-null   float64\n",
            " 43  attr1_1   1574 non-null   float64\n",
            " 44  sinc1_1   1574 non-null   float64\n",
            " 45  intel1_1  1574 non-null   float64\n",
            " 46  fun1_1    1574 non-null   float64\n",
            " 47  amb1_1    1574 non-null   float64\n",
            " 48  shar1_1   1574 non-null   float64\n",
            "dtypes: float64(48), int64(1)\n",
            "memory usage: 602.7 KB\n"
          ]
        }
      ]
    },
    {
      "cell_type": "markdown",
      "source": [
        "### Exportation des données"
      ],
      "metadata": {
        "id": "71IR_p_FCVl5"
      }
    },
    {
      "cell_type": "code",
      "source": [
        "df_clean_new=df"
      ],
      "metadata": {
        "id": "1JUDCMKdAdiZ"
      },
      "execution_count": null,
      "outputs": []
    },
    {
      "cell_type": "code",
      "source": [
        "df_clean_new.to_csv(\"submission_clean.csv\",index=False,header=True,sep=',')"
      ],
      "metadata": {
        "id": "AI8OJNnVAdkp"
      },
      "execution_count": null,
      "outputs": []
    },
    {
      "cell_type": "markdown",
      "source": [
        "### Machine learning"
      ],
      "metadata": {
        "id": "BXELXU1NRH1V"
      }
    },
    {
      "cell_type": "markdown",
      "source": [
        "### séparation xtrain xtest"
      ],
      "metadata": {
        "id": "ngI3nBJ0qlag"
      }
    },
    {
      "cell_type": "code",
      "source": [
        "df = pd.read_csv('/content/drive/MyDrive/fichier_python/df_clean_new.csv',on_bad_lines=\"skip\",delimiter=\",\")"
      ],
      "metadata": {
        "id": "JXrpThZKAdnJ"
      },
      "execution_count": null,
      "outputs": []
    },
    {
      "cell_type": "code",
      "source": [
        "pd.set_option('display.max_columns',None)\n",
        "\n",
        "df.head()"
      ],
      "metadata": {
        "id": "tbMbRwlTAdpc",
        "colab": {
          "base_uri": "https://localhost:8080/",
          "height": 270
        },
        "outputId": "aa50f074-a0c1-473d-bcd0-a64bd85b9000"
      },
      "execution_count": null,
      "outputs": [
        {
          "output_type": "execute_result",
          "data": {
            "text/plain": [
              "   gender  condtn  wave  round  order  match  int_corr  samerace  age_o  \\\n",
              "0     1.0     2.0  17.0   11.0    1.0    0.0      0.48       0.0   29.0   \n",
              "1     1.0     2.0  17.0   11.0   10.0    0.0      0.31       0.0   23.0   \n",
              "2     1.0     2.0  17.0   11.0    9.0    0.0      0.40       0.0   23.0   \n",
              "3     1.0     2.0  17.0   11.0    4.0    0.0      0.59       0.0   23.0   \n",
              "4     1.0     2.0  17.0   11.0    5.0    0.0     -0.17       0.0   22.0   \n",
              "\n",
              "   pf_o_att  pf_o_sin  pf_o_int  pf_o_fun  pf_o_amb  pf_o_sha  dec_o  attr_o  \\\n",
              "0      20.0      10.0      50.0       5.0      10.0       5.0    0.0     3.0   \n",
              "1      14.0      15.0      16.0      17.0      18.0      20.0    0.0     3.0   \n",
              "2      15.0      15.0      18.0      18.0      14.0      20.0    0.0     6.0   \n",
              "3      28.0       8.0      17.0      22.0      17.0       8.0    0.0     7.0   \n",
              "4      25.0       5.0      20.0      25.0      15.0      10.0    0.0     2.0   \n",
              "\n",
              "      sinc_o    intel_o     fun_o      amb_o    shar_o   age  imprace  \\\n",
              "0  10.000000  10.000000  3.000000  10.000000  0.000000  27.0      4.0   \n",
              "1   9.000000  10.000000  3.000000  10.000000  2.000000  27.0      4.0   \n",
              "2   8.000000  10.000000  6.000000   9.000000  5.000000  27.0      4.0   \n",
              "3  10.000000   8.000000  8.000000   8.000000  7.000000  27.0      4.0   \n",
              "4   7.746098   7.616959  5.483463   6.672365  3.897734  27.0      4.0   \n",
              "\n",
              "   imprelig        income  goal  date  go_out  sports  tvsports  exercise  \\\n",
              "0       3.0  43982.229421   2.0   6.0     5.0     6.0       3.0       5.0   \n",
              "1       3.0  42575.234878   2.0   6.0     5.0     6.0       3.0       5.0   \n",
              "2       3.0  44255.793221   2.0   6.0     5.0     6.0       3.0       5.0   \n",
              "3       3.0  45979.064511   2.0   6.0     5.0     6.0       3.0       5.0   \n",
              "4       3.0  41369.285153   2.0   6.0     5.0     6.0       3.0       5.0   \n",
              "\n",
              "   dining  museums  art  hiking  gaming  clubbing  reading   tv  theater  \\\n",
              "0     6.0      6.0  5.0     6.0     5.0       3.0      6.0  6.0      4.0   \n",
              "1     6.0      6.0  5.0     6.0     5.0       3.0      6.0  6.0      4.0   \n",
              "2     6.0      6.0  5.0     6.0     5.0       3.0      6.0  6.0      4.0   \n",
              "3     6.0      6.0  5.0     6.0     5.0       3.0      6.0  6.0      4.0   \n",
              "4     6.0      6.0  5.0     6.0     5.0       3.0      6.0  6.0      4.0   \n",
              "\n",
              "   movies  concerts  music  shopping  yoga  exphappy  attr1_1  sinc1_1  \\\n",
              "0     7.0       6.0    5.0       4.0   1.0       6.0     30.0     30.0   \n",
              "1     7.0       6.0    5.0       4.0   1.0       6.0     30.0     30.0   \n",
              "2     7.0       6.0    5.0       4.0   1.0       6.0     30.0     30.0   \n",
              "3     7.0       6.0    5.0       4.0   1.0       6.0     30.0     30.0   \n",
              "4     7.0       6.0    5.0       4.0   1.0       6.0     30.0     30.0   \n",
              "\n",
              "   intel1_1  fun1_1  amb1_1  shar1_1  \n",
              "0      30.0     5.0     0.0      5.0  \n",
              "1      30.0     5.0     0.0      5.0  \n",
              "2      30.0     5.0     0.0      5.0  \n",
              "3      30.0     5.0     0.0      5.0  \n",
              "4      30.0     5.0     0.0      5.0  "
            ],
            "text/html": [
              "\n",
              "  <div id=\"df-d458096f-4f7d-4db2-9402-10f6350bc42c\">\n",
              "    <div class=\"colab-df-container\">\n",
              "      <div>\n",
              "<style scoped>\n",
              "    .dataframe tbody tr th:only-of-type {\n",
              "        vertical-align: middle;\n",
              "    }\n",
              "\n",
              "    .dataframe tbody tr th {\n",
              "        vertical-align: top;\n",
              "    }\n",
              "\n",
              "    .dataframe thead th {\n",
              "        text-align: right;\n",
              "    }\n",
              "</style>\n",
              "<table border=\"1\" class=\"dataframe\">\n",
              "  <thead>\n",
              "    <tr style=\"text-align: right;\">\n",
              "      <th></th>\n",
              "      <th>gender</th>\n",
              "      <th>condtn</th>\n",
              "      <th>wave</th>\n",
              "      <th>round</th>\n",
              "      <th>order</th>\n",
              "      <th>match</th>\n",
              "      <th>int_corr</th>\n",
              "      <th>samerace</th>\n",
              "      <th>age_o</th>\n",
              "      <th>pf_o_att</th>\n",
              "      <th>pf_o_sin</th>\n",
              "      <th>pf_o_int</th>\n",
              "      <th>pf_o_fun</th>\n",
              "      <th>pf_o_amb</th>\n",
              "      <th>pf_o_sha</th>\n",
              "      <th>dec_o</th>\n",
              "      <th>attr_o</th>\n",
              "      <th>sinc_o</th>\n",
              "      <th>intel_o</th>\n",
              "      <th>fun_o</th>\n",
              "      <th>amb_o</th>\n",
              "      <th>shar_o</th>\n",
              "      <th>age</th>\n",
              "      <th>imprace</th>\n",
              "      <th>imprelig</th>\n",
              "      <th>income</th>\n",
              "      <th>goal</th>\n",
              "      <th>date</th>\n",
              "      <th>go_out</th>\n",
              "      <th>sports</th>\n",
              "      <th>tvsports</th>\n",
              "      <th>exercise</th>\n",
              "      <th>dining</th>\n",
              "      <th>museums</th>\n",
              "      <th>art</th>\n",
              "      <th>hiking</th>\n",
              "      <th>gaming</th>\n",
              "      <th>clubbing</th>\n",
              "      <th>reading</th>\n",
              "      <th>tv</th>\n",
              "      <th>theater</th>\n",
              "      <th>movies</th>\n",
              "      <th>concerts</th>\n",
              "      <th>music</th>\n",
              "      <th>shopping</th>\n",
              "      <th>yoga</th>\n",
              "      <th>exphappy</th>\n",
              "      <th>attr1_1</th>\n",
              "      <th>sinc1_1</th>\n",
              "      <th>intel1_1</th>\n",
              "      <th>fun1_1</th>\n",
              "      <th>amb1_1</th>\n",
              "      <th>shar1_1</th>\n",
              "    </tr>\n",
              "  </thead>\n",
              "  <tbody>\n",
              "    <tr>\n",
              "      <th>0</th>\n",
              "      <td>1.0</td>\n",
              "      <td>2.0</td>\n",
              "      <td>17.0</td>\n",
              "      <td>11.0</td>\n",
              "      <td>1.0</td>\n",
              "      <td>0.0</td>\n",
              "      <td>0.48</td>\n",
              "      <td>0.0</td>\n",
              "      <td>29.0</td>\n",
              "      <td>20.0</td>\n",
              "      <td>10.0</td>\n",
              "      <td>50.0</td>\n",
              "      <td>5.0</td>\n",
              "      <td>10.0</td>\n",
              "      <td>5.0</td>\n",
              "      <td>0.0</td>\n",
              "      <td>3.0</td>\n",
              "      <td>10.000000</td>\n",
              "      <td>10.000000</td>\n",
              "      <td>3.000000</td>\n",
              "      <td>10.000000</td>\n",
              "      <td>0.000000</td>\n",
              "      <td>27.0</td>\n",
              "      <td>4.0</td>\n",
              "      <td>3.0</td>\n",
              "      <td>43982.229421</td>\n",
              "      <td>2.0</td>\n",
              "      <td>6.0</td>\n",
              "      <td>5.0</td>\n",
              "      <td>6.0</td>\n",
              "      <td>3.0</td>\n",
              "      <td>5.0</td>\n",
              "      <td>6.0</td>\n",
              "      <td>6.0</td>\n",
              "      <td>5.0</td>\n",
              "      <td>6.0</td>\n",
              "      <td>5.0</td>\n",
              "      <td>3.0</td>\n",
              "      <td>6.0</td>\n",
              "      <td>6.0</td>\n",
              "      <td>4.0</td>\n",
              "      <td>7.0</td>\n",
              "      <td>6.0</td>\n",
              "      <td>5.0</td>\n",
              "      <td>4.0</td>\n",
              "      <td>1.0</td>\n",
              "      <td>6.0</td>\n",
              "      <td>30.0</td>\n",
              "      <td>30.0</td>\n",
              "      <td>30.0</td>\n",
              "      <td>5.0</td>\n",
              "      <td>0.0</td>\n",
              "      <td>5.0</td>\n",
              "    </tr>\n",
              "    <tr>\n",
              "      <th>1</th>\n",
              "      <td>1.0</td>\n",
              "      <td>2.0</td>\n",
              "      <td>17.0</td>\n",
              "      <td>11.0</td>\n",
              "      <td>10.0</td>\n",
              "      <td>0.0</td>\n",
              "      <td>0.31</td>\n",
              "      <td>0.0</td>\n",
              "      <td>23.0</td>\n",
              "      <td>14.0</td>\n",
              "      <td>15.0</td>\n",
              "      <td>16.0</td>\n",
              "      <td>17.0</td>\n",
              "      <td>18.0</td>\n",
              "      <td>20.0</td>\n",
              "      <td>0.0</td>\n",
              "      <td>3.0</td>\n",
              "      <td>9.000000</td>\n",
              "      <td>10.000000</td>\n",
              "      <td>3.000000</td>\n",
              "      <td>10.000000</td>\n",
              "      <td>2.000000</td>\n",
              "      <td>27.0</td>\n",
              "      <td>4.0</td>\n",
              "      <td>3.0</td>\n",
              "      <td>42575.234878</td>\n",
              "      <td>2.0</td>\n",
              "      <td>6.0</td>\n",
              "      <td>5.0</td>\n",
              "      <td>6.0</td>\n",
              "      <td>3.0</td>\n",
              "      <td>5.0</td>\n",
              "      <td>6.0</td>\n",
              "      <td>6.0</td>\n",
              "      <td>5.0</td>\n",
              "      <td>6.0</td>\n",
              "      <td>5.0</td>\n",
              "      <td>3.0</td>\n",
              "      <td>6.0</td>\n",
              "      <td>6.0</td>\n",
              "      <td>4.0</td>\n",
              "      <td>7.0</td>\n",
              "      <td>6.0</td>\n",
              "      <td>5.0</td>\n",
              "      <td>4.0</td>\n",
              "      <td>1.0</td>\n",
              "      <td>6.0</td>\n",
              "      <td>30.0</td>\n",
              "      <td>30.0</td>\n",
              "      <td>30.0</td>\n",
              "      <td>5.0</td>\n",
              "      <td>0.0</td>\n",
              "      <td>5.0</td>\n",
              "    </tr>\n",
              "    <tr>\n",
              "      <th>2</th>\n",
              "      <td>1.0</td>\n",
              "      <td>2.0</td>\n",
              "      <td>17.0</td>\n",
              "      <td>11.0</td>\n",
              "      <td>9.0</td>\n",
              "      <td>0.0</td>\n",
              "      <td>0.40</td>\n",
              "      <td>0.0</td>\n",
              "      <td>23.0</td>\n",
              "      <td>15.0</td>\n",
              "      <td>15.0</td>\n",
              "      <td>18.0</td>\n",
              "      <td>18.0</td>\n",
              "      <td>14.0</td>\n",
              "      <td>20.0</td>\n",
              "      <td>0.0</td>\n",
              "      <td>6.0</td>\n",
              "      <td>8.000000</td>\n",
              "      <td>10.000000</td>\n",
              "      <td>6.000000</td>\n",
              "      <td>9.000000</td>\n",
              "      <td>5.000000</td>\n",
              "      <td>27.0</td>\n",
              "      <td>4.0</td>\n",
              "      <td>3.0</td>\n",
              "      <td>44255.793221</td>\n",
              "      <td>2.0</td>\n",
              "      <td>6.0</td>\n",
              "      <td>5.0</td>\n",
              "      <td>6.0</td>\n",
              "      <td>3.0</td>\n",
              "      <td>5.0</td>\n",
              "      <td>6.0</td>\n",
              "      <td>6.0</td>\n",
              "      <td>5.0</td>\n",
              "      <td>6.0</td>\n",
              "      <td>5.0</td>\n",
              "      <td>3.0</td>\n",
              "      <td>6.0</td>\n",
              "      <td>6.0</td>\n",
              "      <td>4.0</td>\n",
              "      <td>7.0</td>\n",
              "      <td>6.0</td>\n",
              "      <td>5.0</td>\n",
              "      <td>4.0</td>\n",
              "      <td>1.0</td>\n",
              "      <td>6.0</td>\n",
              "      <td>30.0</td>\n",
              "      <td>30.0</td>\n",
              "      <td>30.0</td>\n",
              "      <td>5.0</td>\n",
              "      <td>0.0</td>\n",
              "      <td>5.0</td>\n",
              "    </tr>\n",
              "    <tr>\n",
              "      <th>3</th>\n",
              "      <td>1.0</td>\n",
              "      <td>2.0</td>\n",
              "      <td>17.0</td>\n",
              "      <td>11.0</td>\n",
              "      <td>4.0</td>\n",
              "      <td>0.0</td>\n",
              "      <td>0.59</td>\n",
              "      <td>0.0</td>\n",
              "      <td>23.0</td>\n",
              "      <td>28.0</td>\n",
              "      <td>8.0</td>\n",
              "      <td>17.0</td>\n",
              "      <td>22.0</td>\n",
              "      <td>17.0</td>\n",
              "      <td>8.0</td>\n",
              "      <td>0.0</td>\n",
              "      <td>7.0</td>\n",
              "      <td>10.000000</td>\n",
              "      <td>8.000000</td>\n",
              "      <td>8.000000</td>\n",
              "      <td>8.000000</td>\n",
              "      <td>7.000000</td>\n",
              "      <td>27.0</td>\n",
              "      <td>4.0</td>\n",
              "      <td>3.0</td>\n",
              "      <td>45979.064511</td>\n",
              "      <td>2.0</td>\n",
              "      <td>6.0</td>\n",
              "      <td>5.0</td>\n",
              "      <td>6.0</td>\n",
              "      <td>3.0</td>\n",
              "      <td>5.0</td>\n",
              "      <td>6.0</td>\n",
              "      <td>6.0</td>\n",
              "      <td>5.0</td>\n",
              "      <td>6.0</td>\n",
              "      <td>5.0</td>\n",
              "      <td>3.0</td>\n",
              "      <td>6.0</td>\n",
              "      <td>6.0</td>\n",
              "      <td>4.0</td>\n",
              "      <td>7.0</td>\n",
              "      <td>6.0</td>\n",
              "      <td>5.0</td>\n",
              "      <td>4.0</td>\n",
              "      <td>1.0</td>\n",
              "      <td>6.0</td>\n",
              "      <td>30.0</td>\n",
              "      <td>30.0</td>\n",
              "      <td>30.0</td>\n",
              "      <td>5.0</td>\n",
              "      <td>0.0</td>\n",
              "      <td>5.0</td>\n",
              "    </tr>\n",
              "    <tr>\n",
              "      <th>4</th>\n",
              "      <td>1.0</td>\n",
              "      <td>2.0</td>\n",
              "      <td>17.0</td>\n",
              "      <td>11.0</td>\n",
              "      <td>5.0</td>\n",
              "      <td>0.0</td>\n",
              "      <td>-0.17</td>\n",
              "      <td>0.0</td>\n",
              "      <td>22.0</td>\n",
              "      <td>25.0</td>\n",
              "      <td>5.0</td>\n",
              "      <td>20.0</td>\n",
              "      <td>25.0</td>\n",
              "      <td>15.0</td>\n",
              "      <td>10.0</td>\n",
              "      <td>0.0</td>\n",
              "      <td>2.0</td>\n",
              "      <td>7.746098</td>\n",
              "      <td>7.616959</td>\n",
              "      <td>5.483463</td>\n",
              "      <td>6.672365</td>\n",
              "      <td>3.897734</td>\n",
              "      <td>27.0</td>\n",
              "      <td>4.0</td>\n",
              "      <td>3.0</td>\n",
              "      <td>41369.285153</td>\n",
              "      <td>2.0</td>\n",
              "      <td>6.0</td>\n",
              "      <td>5.0</td>\n",
              "      <td>6.0</td>\n",
              "      <td>3.0</td>\n",
              "      <td>5.0</td>\n",
              "      <td>6.0</td>\n",
              "      <td>6.0</td>\n",
              "      <td>5.0</td>\n",
              "      <td>6.0</td>\n",
              "      <td>5.0</td>\n",
              "      <td>3.0</td>\n",
              "      <td>6.0</td>\n",
              "      <td>6.0</td>\n",
              "      <td>4.0</td>\n",
              "      <td>7.0</td>\n",
              "      <td>6.0</td>\n",
              "      <td>5.0</td>\n",
              "      <td>4.0</td>\n",
              "      <td>1.0</td>\n",
              "      <td>6.0</td>\n",
              "      <td>30.0</td>\n",
              "      <td>30.0</td>\n",
              "      <td>30.0</td>\n",
              "      <td>5.0</td>\n",
              "      <td>0.0</td>\n",
              "      <td>5.0</td>\n",
              "    </tr>\n",
              "  </tbody>\n",
              "</table>\n",
              "</div>\n",
              "      <button class=\"colab-df-convert\" onclick=\"convertToInteractive('df-d458096f-4f7d-4db2-9402-10f6350bc42c')\"\n",
              "              title=\"Convert this dataframe to an interactive table.\"\n",
              "              style=\"display:none;\">\n",
              "        \n",
              "  <svg xmlns=\"http://www.w3.org/2000/svg\" height=\"24px\"viewBox=\"0 0 24 24\"\n",
              "       width=\"24px\">\n",
              "    <path d=\"M0 0h24v24H0V0z\" fill=\"none\"/>\n",
              "    <path d=\"M18.56 5.44l.94 2.06.94-2.06 2.06-.94-2.06-.94-.94-2.06-.94 2.06-2.06.94zm-11 1L8.5 8.5l.94-2.06 2.06-.94-2.06-.94L8.5 2.5l-.94 2.06-2.06.94zm10 10l.94 2.06.94-2.06 2.06-.94-2.06-.94-.94-2.06-.94 2.06-2.06.94z\"/><path d=\"M17.41 7.96l-1.37-1.37c-.4-.4-.92-.59-1.43-.59-.52 0-1.04.2-1.43.59L10.3 9.45l-7.72 7.72c-.78.78-.78 2.05 0 2.83L4 21.41c.39.39.9.59 1.41.59.51 0 1.02-.2 1.41-.59l7.78-7.78 2.81-2.81c.8-.78.8-2.07 0-2.86zM5.41 20L4 18.59l7.72-7.72 1.47 1.35L5.41 20z\"/>\n",
              "  </svg>\n",
              "      </button>\n",
              "      \n",
              "  <style>\n",
              "    .colab-df-container {\n",
              "      display:flex;\n",
              "      flex-wrap:wrap;\n",
              "      gap: 12px;\n",
              "    }\n",
              "\n",
              "    .colab-df-convert {\n",
              "      background-color: #E8F0FE;\n",
              "      border: none;\n",
              "      border-radius: 50%;\n",
              "      cursor: pointer;\n",
              "      display: none;\n",
              "      fill: #1967D2;\n",
              "      height: 32px;\n",
              "      padding: 0 0 0 0;\n",
              "      width: 32px;\n",
              "    }\n",
              "\n",
              "    .colab-df-convert:hover {\n",
              "      background-color: #E2EBFA;\n",
              "      box-shadow: 0px 1px 2px rgba(60, 64, 67, 0.3), 0px 1px 3px 1px rgba(60, 64, 67, 0.15);\n",
              "      fill: #174EA6;\n",
              "    }\n",
              "\n",
              "    [theme=dark] .colab-df-convert {\n",
              "      background-color: #3B4455;\n",
              "      fill: #D2E3FC;\n",
              "    }\n",
              "\n",
              "    [theme=dark] .colab-df-convert:hover {\n",
              "      background-color: #434B5C;\n",
              "      box-shadow: 0px 1px 3px 1px rgba(0, 0, 0, 0.15);\n",
              "      filter: drop-shadow(0px 1px 2px rgba(0, 0, 0, 0.3));\n",
              "      fill: #FFFFFF;\n",
              "    }\n",
              "  </style>\n",
              "\n",
              "      <script>\n",
              "        const buttonEl =\n",
              "          document.querySelector('#df-d458096f-4f7d-4db2-9402-10f6350bc42c button.colab-df-convert');\n",
              "        buttonEl.style.display =\n",
              "          google.colab.kernel.accessAllowed ? 'block' : 'none';\n",
              "\n",
              "        async function convertToInteractive(key) {\n",
              "          const element = document.querySelector('#df-d458096f-4f7d-4db2-9402-10f6350bc42c');\n",
              "          const dataTable =\n",
              "            await google.colab.kernel.invokeFunction('convertToInteractive',\n",
              "                                                     [key], {});\n",
              "          if (!dataTable) return;\n",
              "\n",
              "          const docLinkHtml = 'Like what you see? Visit the ' +\n",
              "            '<a target=\"_blank\" href=https://colab.research.google.com/notebooks/data_table.ipynb>data table notebook</a>'\n",
              "            + ' to learn more about interactive tables.';\n",
              "          element.innerHTML = '';\n",
              "          dataTable['output_type'] = 'display_data';\n",
              "          await google.colab.output.renderOutput(dataTable, element);\n",
              "          const docLink = document.createElement('div');\n",
              "          docLink.innerHTML = docLinkHtml;\n",
              "          element.appendChild(docLink);\n",
              "        }\n",
              "      </script>\n",
              "    </div>\n",
              "  </div>\n",
              "  "
            ]
          },
          "metadata": {},
          "execution_count": 14
        }
      ]
    },
    {
      "cell_type": "code",
      "source": [
        "Y = df['match']\n",
        "X = df.drop(['match','wave','round','order','dec_o'], 1)\n",
        "\n"
      ],
      "metadata": {
        "id": "eiNpbZNZAdrb",
        "colab": {
          "base_uri": "https://localhost:8080/"
        },
        "outputId": "4b498885-9434-479b-fb8c-cc3dd518e06e"
      },
      "execution_count": null,
      "outputs": [
        {
          "output_type": "stream",
          "name": "stderr",
          "text": [
            "/usr/local/lib/python3.7/dist-packages/ipykernel_launcher.py:2: FutureWarning: In a future version of pandas all arguments of DataFrame.drop except for the argument 'labels' will be keyword-only\n",
            "  \n"
          ]
        }
      ]
    },
    {
      "cell_type": "code",
      "source": [
        "import matplotlib.pyplot as plt\n",
        "\n",
        "f = plt.figure(figsize=(19, 15))\n",
        "plt.matshow(df.corr(), fignum=f.number)\n",
        "plt.xticks(range(df.select_dtypes(['number']).shape[1]), df.select_dtypes(['number']).columns, fontsize=14, rotation=45)\n",
        "plt.yticks(range(df.select_dtypes(['number']).shape[1]), df.select_dtypes(['number']).columns, fontsize=14)\n",
        "cb = plt.colorbar()\n",
        "cb.ax.tick_params(labelsize=14)\n",
        "plt.title('Correlation Matrix', fontsize=16);"
      ],
      "metadata": {
        "colab": {
          "base_uri": "https://localhost:8080/",
          "height": 937
        },
        "id": "Nz2tUlV9cDzJ",
        "outputId": "b7830345-a3ae-4575-a3eb-7f5cff09f9b8"
      },
      "execution_count": null,
      "outputs": [
        {
          "output_type": "display_data",
          "data": {
            "text/plain": [
              "<Figure size 1368x1080 with 2 Axes>"
            ],
            "image/png": "[encoded data removed]"
          },
          "metadata": {
            "needs_background": "light"
          }
        }
      ]
    },
    {
      "cell_type": "code",
      "source": [
        "from sklearn.model_selection import train_test_split\n",
        "X_train, X_test, y_train, y_test = train_test_split(X,Y, test_size = 0.30, stratify = Y)"
      ],
      "metadata": {
        "id": "n0_okUAacDTZ"
      },
      "execution_count": null,
      "outputs": []
    },
    {
      "cell_type": "code",
      "source": [
        "from sklearn.preprocessing import StandardScaler\n",
        "scaler = StandardScaler().fit(X_train)\n",
        "X_train_scale = scaler.transform(X_train)\n",
        "X_test_scale = scaler.transform(X_test)"
      ],
      "metadata": {
        "id": "0rIaWkm3SqPy"
      },
      "execution_count": null,
      "outputs": []
    },
    {
      "cell_type": "markdown",
      "source": [
        "### SMOTE\n",
        "\n",
        "---\n",
        "\n",
        "Afin de rééquilibrer les données"
      ],
      "metadata": {
        "id": "fqAlcAj-pVWl"
      }
    },
    {
      "cell_type": "code",
      "source": [
        "from imblearn.over_sampling import SMOTE\n",
        "from sklearn.model_selection import train_test_split\n"
      ],
      "metadata": {
        "id": "AaxrXhKqpW3V"
      },
      "execution_count": null,
      "outputs": []
    },
    {
      "cell_type": "code",
      "source": [
        "#sm = SMOTE(random_state=2)\n",
        "X, y = SMOTE().fit_resample(X_train, y_train)\n",
        "#X_train_res, y_train_res = sm.fit_sample(X_train, y_train.ravel())"
      ],
      "metadata": {
        "id": "46upi--wpW5d"
      },
      "execution_count": null,
      "outputs": []
    },
    {
      "cell_type": "code",
      "source": [
        "#from sklearn.model_selection import train_test_split\n",
        "#X_train, X_test, y_train, y_test = train_test_split(X_res,Y_res, test_size = 0.30, stratify = Y_res)"
      ],
      "metadata": {
        "id": "_ITNHnVUpW77"
      },
      "execution_count": null,
      "outputs": []
    },
    {
      "cell_type": "code",
      "source": [
        "from sklearn.preprocessing import StandardScaler\n",
        "scaler = StandardScaler().fit(X_train)\n",
        "X_train_scale = scaler.transform(X_train)\n",
        "X_test_scale = scaler.transform(X_test)"
      ],
      "metadata": {
        "id": "OhhgqA0ipyEk"
      },
      "execution_count": null,
      "outputs": []
    },
    {
      "cell_type": "markdown",
      "source": [
        "### Tests sur différents modèles"
      ],
      "metadata": {
        "id": "eSTBjvRraQtP"
      }
    },
    {
      "cell_type": "markdown",
      "source": [
        "### Adaboost"
      ],
      "metadata": {
        "id": "2fHQbfpyqpdk"
      }
    },
    {
      "cell_type": "code",
      "source": [
        "from sklearn.ensemble import AdaBoostClassifier\n",
        "Adaclfstd = AdaBoostClassifier( n_estimators=250)\n",
        "Adaclfstd.fit(X_train_scale, y_train)"
      ],
      "metadata": {
        "id": "A3v-hflwqhQZ",
        "colab": {
          "base_uri": "https://localhost:8080/"
        },
        "outputId": "291fa9f2-4e90-447c-821c-5b3045f696c6"
      },
      "execution_count": null,
      "outputs": [
        {
          "output_type": "execute_result",
          "data": {
            "text/plain": [
              "AdaBoostClassifier(n_estimators=250)"
            ]
          },
          "metadata": {},
          "execution_count": 42
        }
      ]
    },
    {
      "cell_type": "code",
      "source": [
        "y_pred = Adaclfstd.predict(X_test_scale)"
      ],
      "metadata": {
        "id": "3l9gB27aSqVh"
      },
      "execution_count": null,
      "outputs": []
    },
    {
      "cell_type": "code",
      "source": [
        "from sklearn.metrics import mean_squared_error, accuracy_score, confusion_matrix, f1_score, recall_score, precision_score, make_scorer, roc_curve, auc\n",
        "print(accuracy_score(y_test,y_pred))\n",
        "print('f1_score : ' + str(f1_score(y_test,y_pred, average='macro')))"
      ],
      "metadata": {
        "colab": {
          "base_uri": "https://localhost:8080/"
        },
        "id": "Ukcwot-_XTzO",
        "outputId": "a02812f7-dd23-4312-bd94-44eefd936ab3"
      },
      "execution_count": null,
      "outputs": [
        {
          "output_type": "stream",
          "name": "stdout",
          "text": [
            "0.83692458374143\n",
            "f1_score : 0.617244611059044\n"
          ]
        }
      ]
    },
    {
      "cell_type": "markdown",
      "source": [
        "Non Std :"
      ],
      "metadata": {
        "id": "txqP-_pKYern"
      }
    },
    {
      "cell_type": "code",
      "source": [
        "Adaclf = AdaBoostClassifier( n_estimators=250)\n",
        "Adaclf.fit(X_train, y_train)\n",
        "y_predNonStd = Adaclf.predict(X_test)\n",
        "print(accuracy_score(y_test,y_predNonStd))\n",
        "print('f1_score : ' + str(f1_score(y_test,y_predNonStd, average='macro')))"
      ],
      "metadata": {
        "colab": {
          "base_uri": "https://localhost:8080/"
        },
        "id": "9wsjIhkEXT1g",
        "outputId": "c30a0325-fc78-4aee-d2f0-4cb97e76fa66"
      },
      "execution_count": null,
      "outputs": [
        {
          "output_type": "stream",
          "name": "stdout",
          "text": [
            "0.83692458374143\n",
            "f1_score : 0.617244611059044\n"
          ]
        }
      ]
    },
    {
      "cell_type": "markdown",
      "source": [
        "### Selection de variables"
      ],
      "metadata": {
        "id": "6BnFqz0HA-dd"
      }
    },
    {
      "cell_type": "code",
      "source": [
        "importances = Adaclfstd.feature_importances_"
      ],
      "metadata": {
        "id": "AkrLIeX3DoOW"
      },
      "execution_count": null,
      "outputs": []
    },
    {
      "cell_type": "code",
      "source": [
        "import matplotlib.pyplot as plt"
      ],
      "metadata": {
        "id": "8enQzOTqEYxW"
      },
      "execution_count": null,
      "outputs": []
    },
    {
      "cell_type": "code",
      "source": [
        "indices = np.argsort(importances)\n",
        "\n",
        "fig, ax = plt.subplots(figsize=(15, 15))\n",
        "ax.barh(range(len(importances)), importances[indices])\n",
        "ax.set_yticks(range(len(importances)))\n",
        "_ = ax.set_yticklabels(np.array(X_train.columns)[indices])"
      ],
      "metadata": {
        "colab": {
          "base_uri": "https://localhost:8080/",
          "height": 863
        },
        "id": "uotSTw7SEXJm",
        "outputId": "a1fa0c4b-32a6-473a-992b-c35f92b44315"
      },
      "execution_count": null,
      "outputs": [
        {
          "output_type": "display_data",
          "data": {
            "text/plain": [
              "<Figure size 1080x1080 with 1 Axes>"
            ],
            "image/png": "[encoded data removed]"
          },
          "metadata": {
            "needs_background": "light"
          }
        }
      ]
    },
    {
      "cell_type": "code",
      "source": [
        "(X_train.columns)[indices]"
      ],
      "metadata": {
        "colab": {
          "base_uri": "https://localhost:8080/"
        },
        "id": "IvnPtLNaA8FF",
        "outputId": "3f34bd39-90ac-42a1-991f-482603695772"
      },
      "execution_count": null,
      "outputs": [
        {
          "output_type": "execute_result",
          "data": {
            "text/plain": [
              "Index(['gender', 'dining', 'samerace', 'yoga', 'hiking', 'sinc_o', 'goal',\n",
              "       'tvsports', 'gaming', 'clubbing', 'shopping', 'condtn', 'tv', 'date',\n",
              "       'reading', 'theater', 'movies', 'concerts', 'museums', 'art',\n",
              "       'exphappy', 'exercise', 'sports', 'go_out', 'imprelig', 'imprace',\n",
              "       'amb_o', 'amb1_1', 'intel1_1', 'sinc1_1', 'pf_o_amb', 'shar1_1', 'age',\n",
              "       'fun1_1', 'intel_o', 'shar_o', 'attr1_1', 'music', 'age_o', 'income',\n",
              "       'pf_o_int', 'attr_o', 'pf_o_sha', 'pf_o_sin', 'fun_o', 'pf_o_att',\n",
              "       'pf_o_fun', 'int_corr'],\n",
              "      dtype='object')"
            ]
          },
          "metadata": {},
          "execution_count": 50
        }
      ]
    },
    {
      "cell_type": "code",
      "source": [
        "col=X_train.columns[indices][-25:]"
      ],
      "metadata": {
        "id": "xSNTMPSiP5j8"
      },
      "execution_count": null,
      "outputs": []
    },
    {
      "cell_type": "code",
      "source": [
        "X_train_sel=X_train[col]\n",
        "\n",
        "scaler = StandardScaler().fit(X_train_sel)\n",
        "X_train_sel_std = scaler.transform(X_train_sel)"
      ],
      "metadata": {
        "id": "P_L_gx3uRzTN"
      },
      "execution_count": null,
      "outputs": []
    },
    {
      "cell_type": "code",
      "source": [
        "X_train_sel_std"
      ],
      "metadata": {
        "colab": {
          "base_uri": "https://localhost:8080/"
        },
        "id": "6gWBUKVkorxE",
        "outputId": "89fa3f77-e1f2-4950-ccb6-37fa66fd62d6"
      },
      "execution_count": null,
      "outputs": [
        {
          "output_type": "execute_result",
          "data": {
            "text/plain": [
              "array([[-1.03818875, -0.2678646 ,  1.11296096, ..., -0.44849567,\n",
              "        -0.11594128,  0.15981183],\n",
              "       [ 0.78842821,  0.43541469,  1.11296096, ..., -0.18605241,\n",
              "         0.42400698,  0.35790058],\n",
              "       [ 0.78842821,  1.13869399,  1.80819965, ...,  0.20800656,\n",
              "         0.42400698, -1.45791298],\n",
              "       ...,\n",
              "       [-0.12488027, -0.9711439 , -0.97275513, ..., -0.86698629,\n",
              "         0.12890012, -0.43445442],\n",
              "       [ 1.70173669,  0.78705434, -0.97275513, ..., -0.97417033,\n",
              "         0.42400698,  0.88613726],\n",
              "       [ 1.70173669,  1.13869399,  1.4605803 , ..., -0.97417033,\n",
              "         0.42400698,  0.39091538]])"
            ]
          },
          "metadata": {},
          "execution_count": 61
        }
      ]
    },
    {
      "cell_type": "markdown",
      "source": [
        "### Adaboost avec selection de var"
      ],
      "metadata": {
        "id": "KhZd1DD_l3Sk"
      }
    },
    {
      "cell_type": "code",
      "source": [
        "Adaclfstd = AdaBoostClassifier(n_estimators=300)\n",
        "Adaclfstd.fit(X_train_sel_std, y_train)"
      ],
      "metadata": {
        "colab": {
          "base_uri": "https://localhost:8080/"
        },
        "id": "BweSt5tsP3NV",
        "outputId": "0bc59da1-8d01-40e2-ea5e-8bbf0b63d3f9"
      },
      "execution_count": null,
      "outputs": [
        {
          "output_type": "execute_result",
          "data": {
            "text/plain": [
              "AdaBoostClassifier(n_estimators=300)"
            ]
          },
          "metadata": {},
          "execution_count": 62
        }
      ]
    },
    {
      "cell_type": "code",
      "source": [
        "X_test_sel=X_test[col]\n",
        "X_test_sel_std = scaler.transform(X_test_sel)"
      ],
      "metadata": {
        "id": "T_gWazi-Sbq3"
      },
      "execution_count": null,
      "outputs": []
    },
    {
      "cell_type": "code",
      "source": [
        "y_pred_sel = Adaclfstd.predict(X_test_sel_std)"
      ],
      "metadata": {
        "id": "uS-d25uDSbtG"
      },
      "execution_count": null,
      "outputs": []
    },
    {
      "cell_type": "code",
      "source": [
        "from sklearn.metrics import mean_squared_error, accuracy_score, confusion_matrix, f1_score, recall_score, precision_score, make_scorer, roc_curve, auc\n",
        "print(accuracy_score(y_test,y_pred_sel))\n",
        "print('f1_score : ' + str(f1_score(y_test,y_pred_sel, average='macro')))"
      ],
      "metadata": {
        "colab": {
          "base_uri": "https://localhost:8080/"
        },
        "id": "RkRgYuqlSbvO",
        "outputId": "6309d3bd-4b52-47de-a07f-2114f5bba4d3"
      },
      "execution_count": null,
      "outputs": [
        {
          "output_type": "stream",
          "name": "stdout",
          "text": [
            "0.8330068560235063\n",
            "f1_score : 0.6039022614344509\n"
          ]
        }
      ]
    },
    {
      "cell_type": "markdown",
      "source": [
        "### Optimisation adaboost"
      ],
      "metadata": {
        "id": "01h3Npy7bjVt"
      }
    },
    {
      "cell_type": "code",
      "source": [
        "parameters = {'n_estimators' : np.arange(start = 250, stop = 351, step = 50),\n",
        "              'learning_rate' : np.arange(start = 0.2, stop = 1.2, step = 0.2),\n",
        "              'algorithm' : ['SAMME', 'SAMME.R']\n",
        "             }"
      ],
      "metadata": {
        "id": "i-fTaermbgPl"
      },
      "execution_count": null,
      "outputs": []
    },
    {
      "cell_type": "code",
      "source": [
        "from sklearn.metrics import make_scorer, f1_score\n",
        "from sklearn.model_selection import GridSearchCV\n",
        "\n",
        "AdaclfstdGS = AdaBoostClassifier()\n",
        "f1 = make_scorer(f1_score , average='macro')\n",
        "AdaclfstdGS = GridSearchCV(AdaclfstdGS,\n",
        "                                  parameters,\n",
        "                                  scoring = f1,\n",
        "                                  verbose = 2, \n",
        "                                  cv = 5)\n",
        "AdaclfstdGS.fit(X_train_sel_std, y_train)"
      ],
      "metadata": {
        "id": "Z8AheeHJeSer"
      },
      "execution_count": null,
      "outputs": []
    },
    {
      "cell_type": "code",
      "source": [
        "print(\"Voici les paramètres du meilleure modèle : \" + str(AdaclfstdGS.best_estimator_))\n",
        "print(\"Voici le \"  + str(AdaclfstdGS.scorer_) + \" du meilleure modèle : \" + str(AdaclfstdGS.best_score_))\n",
        "y_pred_sel_opt = AdaclfstdGS.predict(X_test_sel_std)\n",
        "print('f1_score : ' + str(f1_score(y_test,y_pred_sel_opt, average='macro')))"
      ],
      "metadata": {
        "colab": {
          "base_uri": "https://localhost:8080/"
        },
        "id": "bOPopIatgTit",
        "outputId": "6efa1699-0a65-4743-b7ea-e297decc7c48"
      },
      "execution_count": null,
      "outputs": [
        {
          "output_type": "stream",
          "name": "stdout",
          "text": [
            "Voici les paramètres du meilleure modèle : AdaBoostClassifier(n_estimators=350)\n",
            "Voici le make_scorer(f1_score, average=macro) du meilleure modèle : 0.6095423264112735\n",
            "f1_score : 0.6029572899438874\n"
          ]
        }
      ]
    },
    {
      "cell_type": "markdown",
      "source": [
        "### Gradient boosting"
      ],
      "metadata": {
        "id": "JqNSoQi0p2iz"
      }
    },
    {
      "cell_type": "code",
      "source": [
        "from sklearn.ensemble import GradientBoostingClassifier"
      ],
      "metadata": {
        "id": "hKv1NDE1qNP7"
      },
      "execution_count": null,
      "outputs": []
    },
    {
      "cell_type": "code",
      "source": [
        "lr_list = [0.05, 0.075, 0.1, 0.25, 0.5, 0.75, 1]\n",
        "mf_list = [3,5,10,20,50,100,250]\n",
        "for learning_rate in mf_list:\n",
        "    gb_clf = GradientBoostingClassifier(n_estimators=20, learning_rate=1, max_features=5, max_depth=20, random_state=0)\n",
        "    gb_clf.fit(X_train_scale, y_train)\n",
        "\n",
        "    print(\"Learning rate: \", learning_rate)\n",
        "    print(\"Accuracy score (training): {0:.3f}\".format(gb_clf.score(X_train_scale, y_train)))\n",
        "    print(\"Accuracy score (validation): {0:.3f}\".format(gb_clf.score(X_test_scale, y_test)))"
      ],
      "metadata": {
        "colab": {
          "base_uri": "https://localhost:8080/"
        },
        "id": "tydYf2FSqNSM",
        "outputId": "1d813018-aeae-4ed1-8173-21f43bef39c7"
      },
      "execution_count": null,
      "outputs": [
        {
          "output_type": "stream",
          "name": "stdout",
          "text": [
            "Learning rate:  3\n",
            "Accuracy score (training): 1.000\n",
            "Accuracy score (validation): 0.826\n",
            "Learning rate:  5\n",
            "Accuracy score (training): 1.000\n",
            "Accuracy score (validation): 0.826\n",
            "Learning rate:  10\n",
            "Accuracy score (training): 1.000\n",
            "Accuracy score (validation): 0.826\n",
            "Learning rate:  20\n",
            "Accuracy score (training): 1.000\n",
            "Accuracy score (validation): 0.826\n",
            "Learning rate:  50\n",
            "Accuracy score (training): 1.000\n",
            "Accuracy score (validation): 0.826\n",
            "Learning rate:  100\n",
            "Accuracy score (training): 1.000\n",
            "Accuracy score (validation): 0.826\n",
            "Learning rate:  250\n",
            "Accuracy score (training): 1.000\n",
            "Accuracy score (validation): 0.826\n"
          ]
        }
      ]
    },
    {
      "cell_type": "code",
      "source": [
        "gb_clf = GradientBoostingClassifier(n_estimators=20, learning_rate=learning_rate, max_features=20, max_depth=50, random_state=0)\n",
        "gb_clf.fit(X_train_scale, y_train)\n",
        "y_pred = gb_clf.predict(X_test_scale)"
      ],
      "metadata": {
        "id": "FOOWrrXUqNUT"
      },
      "execution_count": null,
      "outputs": []
    },
    {
      "cell_type": "code",
      "source": [
        "from sklearn.metrics import mean_squared_error, accuracy_score, confusion_matrix, f1_score, recall_score, precision_score, make_scorer, roc_curve, auc\n",
        "print(accuracy_score(y_test,y_pred))\n",
        "print('f1_score : ' + str(f1_score(y_test,y_pred, average='macro')))"
      ],
      "metadata": {
        "colab": {
          "base_uri": "https://localhost:8080/"
        },
        "id": "sd8_QmRLrXnb",
        "outputId": "ccb32dbb-4593-4963-ace1-baca2a830093"
      },
      "execution_count": null,
      "outputs": [
        {
          "output_type": "stream",
          "name": "stdout",
          "text": [
            "0.767384916748286\n",
            "f1_score : 0.5937448561049683\n"
          ]
        }
      ]
    },
    {
      "cell_type": "markdown",
      "source": [
        "### optimisation paramètres"
      ],
      "metadata": {
        "id": "8Rmmt4FUJ6n-"
      }
    },
    {
      "cell_type": "code",
      "source": [
        "from sklearn.model_selection import GridSearchCV"
      ],
      "metadata": {
        "id": "gYTeP01VKG4m"
      },
      "execution_count": null,
      "outputs": []
    },
    {
      "cell_type": "code",
      "source": [
        "parameters = {\n",
        "    \"loss\":[\"deviance\"],\n",
        "    \"learning_rate\": [0.5, 0.75, 1],\n",
        "    \"min_samples_split\": np.linspace(0.1, 0.5, 12),\n",
        "    \"min_samples_leaf\": np.linspace(0.1, 0.5, 12),\n",
        "    \"max_depth\":[3,5,8],\n",
        "    \"max_features\":[\"log2\",\"sqrt\"],\n",
        "    \"criterion\": [\"friedman_mse\",  \"mae\"],\n",
        "    \"subsample\":[0.5, 0.618, 0.8,  0.9, 1.0],\n",
        "    \"n_estimators\":[10]\n",
        "    }\n",
        "\n",
        "clf = GridSearchCV(GradientBoostingClassifier(), parameters, cv=10, n_jobs=-1)"
      ],
      "metadata": {
        "id": "hwYaFW3tJ5vn"
      },
      "execution_count": null,
      "outputs": []
    },
    {
      "cell_type": "code",
      "source": [
        "parameters = {\n",
        "    \"n_estimators\":[5,50,250,500],\n",
        "    \"max_depth\":[1,3,5,7,9],\n",
        "    \"learning_rate\":[0.01,0.1,1,10,100]\n",
        "}"
      ],
      "metadata": {
        "id": "pIG4gDpAZ3RW"
      },
      "execution_count": null,
      "outputs": []
    },
    {
      "cell_type": "code",
      "source": [
        "p_test3 = {'learning_rate':[0.15,0.1,0.05,0.01,0.005,0.001], 'n_estimators':[100,250,500,750,1000,1250,1500,1750]}"
      ],
      "metadata": {
        "id": "py8PSpxr4i8p"
      },
      "execution_count": null,
      "outputs": []
    },
    {
      "cell_type": "code",
      "source": [
        "tuning = GridSearchCV(estimator =GradientBoostingClassifier(max_depth=4, min_samples_split=2, min_samples_leaf=1, subsample=1,max_features='sqrt', random_state=10), \n",
        "            param_grid = p_test3, scoring='accuracy',n_jobs=4, cv=5)\n",
        "tuning.fit(X_train_scale,y_train)\n",
        "#tuning.grid_scores_, tuning.best_params_, tuning.best_score_"
      ],
      "metadata": {
        "colab": {
          "base_uri": "https://localhost:8080/"
        },
        "id": "-GC1eMjt4qJi",
        "outputId": "58eaecc3-df3d-4a6a-94e5-96417c765f73"
      },
      "execution_count": null,
      "outputs": [
        {
          "output_type": "execute_result",
          "data": {
            "text/plain": [
              "GridSearchCV(cv=5,\n",
              "             estimator=GradientBoostingClassifier(max_depth=4,\n",
              "                                                  max_features='sqrt',\n",
              "                                                  random_state=10,\n",
              "                                                  subsample=1),\n",
              "             n_jobs=4,\n",
              "             param_grid={'learning_rate': [0.15, 0.1, 0.05, 0.01, 0.005, 0.001],\n",
              "                         'n_estimators': [100, 250, 500, 750, 1000, 1250, 1500,\n",
              "                                          1750]},\n",
              "             scoring='accuracy')"
            ]
          },
          "metadata": {},
          "execution_count": 255
        }
      ]
    },
    {
      "cell_type": "code",
      "source": [
        "print(\"Voici les paramètres du meilleure modèle : \" + str(tuning.best_estimator_))\n",
        "print(\"Voici le \"  + str(tuning.scorer_) + \" du meilleure modèle : \" + str(tuning.best_score_))\n",
        "y_pred = tuning.predict(X_test_scale)\n",
        "print('f1_score : ' + str(f1_score(y_test,y_pred, average='macro')))"
      ],
      "metadata": {
        "colab": {
          "base_uri": "https://localhost:8080/"
        },
        "id": "wRMO1Ro9YXnH",
        "outputId": "105414f1-e8cf-40e4-91ea-1c0b139f663e"
      },
      "execution_count": null,
      "outputs": [
        {
          "output_type": "stream",
          "name": "stdout",
          "text": [
            "Voici les paramètres du meilleure modèle : GradientBoostingClassifier(learning_rate=0.01, max_depth=4, max_features='sqrt',\n",
            "                           n_estimators=1000, random_state=10, subsample=1)\n",
            "Voici le make_scorer(accuracy_score) du meilleure modèle : 0.8385139365294911\n",
            "f1_score : 0.5682503386870689\n"
          ]
        }
      ]
    },
    {
      "cell_type": "code",
      "source": [
        "cv = GridSearchCV(gb_clf,parameters,cv=5)\n",
        "cv.fit(X_train, y_train)"
      ],
      "metadata": {
        "id": "3oSbCW89ee5j"
      },
      "execution_count": null,
      "outputs": []
    },
    {
      "cell_type": "code",
      "source": [
        "clf.fit(X_train, y_train)"
      ],
      "metadata": {
        "colab": {
          "base_uri": "https://localhost:8080/"
        },
        "id": "868M8hDjJ5x9",
        "outputId": "3d527550-9985-42b6-ca83-0cf159721403"
      },
      "execution_count": null,
      "outputs": [
        {
          "output_type": "execute_result",
          "data": {
            "text/plain": [
              "LGBMClassifier(metric='None', n_estimators=5000, n_jobs=4, random_state=314)"
            ]
          },
          "metadata": {},
          "execution_count": 248
        }
      ]
    },
    {
      "cell_type": "markdown",
      "source": [
        "### selection var pour gradient boosting"
      ],
      "metadata": {
        "id": "F6lEqQ0Mx7TM"
      }
    },
    {
      "cell_type": "code",
      "source": [
        "importances = gb_clf.feature_importances_"
      ],
      "metadata": {
        "id": "WrcnSRHMrXpa"
      },
      "execution_count": null,
      "outputs": []
    },
    {
      "cell_type": "code",
      "source": [
        "import matplotlib.pyplot as plt"
      ],
      "metadata": {
        "id": "ogHAB5-NrX9b"
      },
      "execution_count": null,
      "outputs": []
    },
    {
      "cell_type": "code",
      "source": [
        "indices = np.argsort(importances)\n",
        "\n",
        "fig, ax = plt.subplots(figsize=(15, 15))\n",
        "ax.barh(range(len(importances)), importances[indices])\n",
        "ax.set_yticks(range(len(importances)))\n",
        "_ = ax.set_yticklabels(np.array(X_train.columns)[indices])"
      ],
      "metadata": {
        "colab": {
          "base_uri": "https://localhost:8080/",
          "height": 863
        },
        "id": "JOn9nWe0yGAr",
        "outputId": "f0e74bf5-242f-438f-a5fe-a1bc901bb228"
      },
      "execution_count": null,
      "outputs": [
        {
          "output_type": "display_data",
          "data": {
            "text/plain": [
              "<Figure size 1080x1080 with 1 Axes>"
            ],
            "image/png": "[encoded data removed]"
          },
          "metadata": {
            "needs_background": "light"
          }
        }
      ]
    },
    {
      "cell_type": "code",
      "source": [
        "col=X_train.columns[indices][-25:]\n"
      ],
      "metadata": {
        "id": "RcmGn0zYyGCn"
      },
      "execution_count": null,
      "outputs": []
    },
    {
      "cell_type": "code",
      "source": [
        "X_train_sel=X_train[col]\n",
        "\n",
        "scaler = StandardScaler().fit(X_train_sel)\n",
        "X_train_sel_std = scaler.transform(X_train_sel)\n",
        "\n",
        "X_test_sel=X_test[col]\n",
        "X_test_sel_std = scaler.transform(X_test_sel)"
      ],
      "metadata": {
        "id": "CJ7jOJf6yGFC"
      },
      "execution_count": null,
      "outputs": []
    },
    {
      "cell_type": "code",
      "source": [
        "X_train_sel=X_train[col]\n",
        "X_test_sel=X_test[col]"
      ],
      "metadata": {
        "id": "xclPpJ7hOYCH"
      },
      "execution_count": null,
      "outputs": []
    },
    {
      "cell_type": "markdown",
      "source": [
        "### gradient boosting avec sel var"
      ],
      "metadata": {
        "id": "tNUn3rJ7zX-U"
      }
    },
    {
      "cell_type": "code",
      "source": [
        "lr_list = [0.05, 0.075, 0.1, 0.25, 0.5, 0.75, 1]\n",
        "\n",
        "for learning_rate in lr_list:\n",
        "    gb_clf = GradientBoostingClassifier(n_estimators=20, learning_rate=learning_rate, max_features=2, max_depth=8, random_state=0)\n",
        "    gb_clf.fit(X_train_sel_std, y_train)\n",
        "\n",
        "    print(\"Learning rate: \", learning_rate)\n",
        "    print(\"Accuracy score (training): {0:.3f}\".format(gb_clf.score(X_train_sel_std, y_train)))\n",
        "    print(\"Accuracy score (validation): {0:.3f}\".format(gb_clf.score(X_test_sel_std, y_test)))"
      ],
      "metadata": {
        "colab": {
          "base_uri": "https://localhost:8080/"
        },
        "id": "3nemyFhyyGHM",
        "outputId": "4cd137e3-339a-4ea1-cb5f-f5f70952595d"
      },
      "execution_count": null,
      "outputs": [
        {
          "output_type": "stream",
          "name": "stdout",
          "text": [
            "Learning rate:  0.05\n",
            "Accuracy score (training): 0.840\n",
            "Accuracy score (validation): 0.832\n",
            "Learning rate:  0.075\n",
            "Accuracy score (training): 0.860\n",
            "Accuracy score (validation): 0.836\n",
            "Learning rate:  0.1\n",
            "Accuracy score (training): 0.882\n",
            "Accuracy score (validation): 0.836\n",
            "Learning rate:  0.25\n",
            "Accuracy score (training): 0.953\n",
            "Accuracy score (validation): 0.834\n",
            "Learning rate:  0.5\n",
            "Accuracy score (training): 0.988\n",
            "Accuracy score (validation): 0.817\n",
            "Learning rate:  0.75\n",
            "Accuracy score (training): 0.998\n",
            "Accuracy score (validation): 0.809\n",
            "Learning rate:  1\n",
            "Accuracy score (training): 1.000\n",
            "Accuracy score (validation): 0.800\n"
          ]
        }
      ]
    },
    {
      "cell_type": "code",
      "source": [
        "gb_clf_sel = GradientBoostingClassifier(n_estimators=20, learning_rate=0.75, max_features=5, max_depth=250, random_state=0)\n",
        "gb_clf_sel.fit(X_train_sel_std, y_train)\n",
        "y_pred = gb_clf.predict(X_test_sel_std)"
      ],
      "metadata": {
        "id": "deM3hcBjzrDr"
      },
      "execution_count": null,
      "outputs": []
    },
    {
      "cell_type": "code",
      "source": [
        "from sklearn.metrics import mean_squared_error, accuracy_score, confusion_matrix, f1_score, recall_score, precision_score, make_scorer, roc_curve, auc\n",
        "print(accuracy_score(y_test,y_pred))\n",
        "print('f1_score : ' + str(f1_score(y_test,y_pred, average='macro')))"
      ],
      "metadata": {
        "colab": {
          "base_uri": "https://localhost:8080/"
        },
        "id": "he6KP5aszrGL",
        "outputId": "efbfe79c-b895-4f96-fe65-0384b8c1a1c7"
      },
      "execution_count": null,
      "outputs": [
        {
          "output_type": "stream",
          "name": "stdout",
          "text": [
            "0.8001958863858962\n",
            "f1_score : 0.5864796450162304\n"
          ]
        }
      ]
    },
    {
      "cell_type": "code",
      "source": [
        "0.8300685602350637\n",
        "f1_score : 0.5725144325412554"
      ],
      "metadata": {
        "id": "DCCowctmzrIb"
      },
      "execution_count": null,
      "outputs": []
    },
    {
      "cell_type": "markdown",
      "source": [
        "### XGBoost"
      ],
      "metadata": {
        "id": "U5VZIDpSeiMR"
      }
    },
    {
      "cell_type": "code",
      "source": [
        "from xgboost import XGBClassifier"
      ],
      "metadata": {
        "id": "igMH3KvAfOtR"
      },
      "execution_count": null,
      "outputs": []
    },
    {
      "cell_type": "code",
      "source": [
        "xgb_classifier = XGBClassifier()"
      ],
      "metadata": {
        "id": "pwEoKHdQehdy"
      },
      "execution_count": null,
      "outputs": []
    },
    {
      "cell_type": "code",
      "source": [
        "xgb_classifier.fit(X_train_scale,y_train)"
      ],
      "metadata": {
        "colab": {
          "base_uri": "https://localhost:8080/"
        },
        "id": "1cjn1eiLenpK",
        "outputId": "0c2be702-1438-43d3-e4a2-6361bc9dca1c"
      },
      "execution_count": null,
      "outputs": [
        {
          "output_type": "execute_result",
          "data": {
            "text/plain": [
              "XGBClassifier()"
            ]
          },
          "metadata": {},
          "execution_count": 228
        }
      ]
    },
    {
      "cell_type": "code",
      "source": [
        "y_pred = xgb_classifier.predict(X_test_scale)"
      ],
      "metadata": {
        "id": "Iosq7eaQenrj"
      },
      "execution_count": null,
      "outputs": []
    },
    {
      "cell_type": "code",
      "source": [
        "from sklearn.metrics import mean_squared_error, accuracy_score, confusion_matrix, f1_score, recall_score, precision_score, make_scorer, roc_curve, auc\n",
        "print(accuracy_score(y_test,y_pred))\n",
        "print('f1_score : ' + str(f1_score(y_test,y_pred, average='macro')))"
      ],
      "metadata": {
        "colab": {
          "base_uri": "https://localhost:8080/"
        },
        "id": "uP8IakxQent6",
        "outputId": "3dbcec7f-654a-453a-a109-0835c6d3b209"
      },
      "execution_count": null,
      "outputs": [
        {
          "output_type": "stream",
          "name": "stdout",
          "text": [
            "0.8379040156709109\n",
            "f1_score : 0.5403012279681565\n"
          ]
        }
      ]
    },
    {
      "cell_type": "markdown",
      "source": [
        "### LightGBM"
      ],
      "metadata": {
        "id": "1hdxidF3jpR7"
      }
    },
    {
      "cell_type": "code",
      "source": [
        "import lightgbm"
      ],
      "metadata": {
        "id": "uxuQ0HT_enwJ"
      },
      "execution_count": null,
      "outputs": []
    },
    {
      "cell_type": "code",
      "source": [
        "print(lightgbm.__version__)"
      ],
      "metadata": {
        "colab": {
          "base_uri": "https://localhost:8080/"
        },
        "id": "srUNPA3Ienyp",
        "outputId": "b3132b21-8065-4d59-cfcc-d64929c4dff8"
      },
      "execution_count": null,
      "outputs": [
        {
          "output_type": "stream",
          "name": "stdout",
          "text": [
            "2.2.3\n"
          ]
        }
      ]
    },
    {
      "cell_type": "code",
      "source": [
        "from numpy import mean\n",
        "from numpy import std\n",
        "from sklearn.datasets import make_classification\n",
        "from lightgbm import LGBMClassifier\n",
        "from sklearn.model_selection import cross_val_score\n",
        "from sklearn.model_selection import RepeatedStratifiedKFold"
      ],
      "metadata": {
        "id": "wWLyUVPTj67a"
      },
      "execution_count": null,
      "outputs": []
    },
    {
      "cell_type": "code",
      "source": [
        "model = LGBMClassifier()\n",
        "cv = RepeatedStratifiedKFold(n_splits=10, n_repeats=3, random_state=1)\n",
        "n_scores = cross_val_score(model, X_train_scale, y_train, scoring='accuracy', cv=cv, n_jobs=-1, error_score='raise')\n",
        "print('Accuracy: %.3f (%.3f)' % (mean(n_scores), std(n_scores)))"
      ],
      "metadata": {
        "colab": {
          "base_uri": "https://localhost:8080/"
        },
        "id": "A51w7d64j6-i",
        "outputId": "0efcd102-3df2-447d-8fed-6c0c73c2f705"
      },
      "execution_count": null,
      "outputs": [
        {
          "output_type": "stream",
          "name": "stdout",
          "text": [
            "Accuracy: 0.840 (0.011)\n"
          ]
        }
      ]
    },
    {
      "cell_type": "code",
      "source": [
        "model = LGBMClassifier()\n",
        "model.fit(X_train_scale, y_train)"
      ],
      "metadata": {
        "colab": {
          "base_uri": "https://localhost:8080/"
        },
        "id": "V-5cukTbj7CJ",
        "outputId": "964c1336-d026-42d7-d617-fb301aa011a8"
      },
      "execution_count": null,
      "outputs": [
        {
          "output_type": "execute_result",
          "data": {
            "text/plain": [
              "LGBMClassifier()"
            ]
          },
          "metadata": {},
          "execution_count": 291
        }
      ]
    },
    {
      "cell_type": "code",
      "source": [
        "y_pred = model.predict(X_test)"
      ],
      "metadata": {
        "id": "6k2dWJYakxEj"
      },
      "execution_count": null,
      "outputs": []
    },
    {
      "cell_type": "code",
      "source": [
        "from sklearn.metrics import mean_squared_error, accuracy_score, confusion_matrix, f1_score, recall_score, precision_score, make_scorer, roc_curve, auc\n",
        "print(accuracy_score(y_test,y_pred))\n",
        "print('f1_score : ' + str(f1_score(y_test,y_pred, average='macro')))"
      ],
      "metadata": {
        "colab": {
          "base_uri": "https://localhost:8080/"
        },
        "id": "NNEPoiVaj7EZ",
        "outputId": "78e3d8ed-1853-4a51-c7a0-3f720c85aaf9"
      },
      "execution_count": null,
      "outputs": [
        {
          "output_type": "stream",
          "name": "stdout",
          "text": [
            "0.8315377081292851\n",
            "f1_score : 0.4540106951871658\n"
          ]
        }
      ]
    },
    {
      "cell_type": "markdown",
      "source": [
        "### Selection var lightGBM"
      ],
      "metadata": {
        "id": "qxvhG87Qmzwk"
      }
    },
    {
      "cell_type": "code",
      "source": [
        "importances = model.feature_importances_"
      ],
      "metadata": {
        "id": "EJ0_fuVEmzEF"
      },
      "execution_count": null,
      "outputs": []
    },
    {
      "cell_type": "code",
      "source": [
        "import matplotlib.pyplot as plt"
      ],
      "metadata": {
        "id": "nVEgw1uOnc9U"
      },
      "execution_count": null,
      "outputs": []
    },
    {
      "cell_type": "code",
      "source": [
        "indices = np.argsort(importances)\n",
        "\n",
        "fig, ax = plt.subplots(figsize=(15, 15))\n",
        "ax.barh(range(len(importances)), importances[indices])\n",
        "ax.set_yticks(range(len(importances)))\n",
        "_ = ax.set_yticklabels(np.array(X_train.columns)[indices])"
      ],
      "metadata": {
        "colab": {
          "base_uri": "https://localhost:8080/"
        },
        "id": "1VA-QgSMnc_b",
        "outputId": "ab56e2dd-feba-4d83-94f2-1e07c8b07248"
      },
      "execution_count": null,
      "outputs": [
        {
          "output_type": "display_data",
          "data": {
            "text/plain": [
              "<Figure size 1080x1080 with 1 Axes>"
            ],
            "image/png": "[encoded data removed]"
          },
          "metadata": {
            "needs_background": "light"
          }
        }
      ]
    },
    {
      "cell_type": "code",
      "source": [
        "col=X_train.columns[indices][-20:]\n"
      ],
      "metadata": {
        "id": "ZZmylfqXndBr"
      },
      "execution_count": null,
      "outputs": []
    },
    {
      "cell_type": "code",
      "source": [
        "X_train_sel=X_train[col]\n",
        "\n",
        "scaler = StandardScaler().fit(X_train_sel)\n",
        "X_train_sel_std = scaler.transform(X_train_sel)\n",
        "\n",
        "X_test_sel=X_test[col]\n",
        "X_test_sel_std = scaler.transform(X_test_sel)"
      ],
      "metadata": {
        "id": "tzRgJc-yndDr"
      },
      "execution_count": null,
      "outputs": []
    },
    {
      "cell_type": "markdown",
      "source": [
        "optimisation"
      ],
      "metadata": {
        "id": "quJpHPPSRdbU"
      }
    },
    {
      "cell_type": "code",
      "source": [
        "def learning_rate_010_decay_power_099(current_iter):\n",
        "    base_learning_rate = 0.1\n",
        "    lr = base_learning_rate  * np.power(.99, current_iter)\n",
        "    return lr if lr > 1e-3 else 1e-3\n",
        "\n",
        "def learning_rate_010_decay_power_0995(current_iter):\n",
        "    base_learning_rate = 0.1\n",
        "    lr = base_learning_rate  * np.power(.995, current_iter)\n",
        "    return lr if lr > 1e-3 else 1e-3\n",
        "\n",
        "def learning_rate_005_decay_power_099(current_iter):\n",
        "    base_learning_rate = 0.05\n",
        "    lr = base_learning_rate  * np.power(.99, current_iter)\n",
        "    return lr if lr > 1e-3 else 1e-3"
      ],
      "metadata": {
        "id": "CimRbAYeRf0J"
      },
      "execution_count": null,
      "outputs": []
    },
    {
      "cell_type": "code",
      "source": [
        "import lightgbm as lgb\n",
        "fit_params={\"early_stopping_rounds\":30, \n",
        "            \"eval_metric\" : 'auc', \n",
        "            \"eval_set\" : [(X_test,y_test)],\n",
        "            'eval_names': ['valid'],\n",
        "            #'callbacks': [lgb.reset_parameter(learning_rate=learning_rate_010_decay_power_099)],\n",
        "            'verbose': 100,\n",
        "            'categorical_feature': 'auto'}"
      ],
      "metadata": {
        "id": "cZ-zlvIJRf2R"
      },
      "execution_count": null,
      "outputs": []
    },
    {
      "cell_type": "code",
      "source": [
        "from scipy.stats import randint as sp_randint\n",
        "from scipy.stats import uniform as sp_uniform\n",
        "param_test ={'num_leaves': sp_randint(6, 50), \n",
        "             'min_child_samples': sp_randint(100, 500), \n",
        "             'min_child_weight': [1e-5, 1e-3, 1e-2, 1e-1, 1, 1e1, 1e2, 1e3, 1e4],\n",
        "             'subsample': sp_uniform(loc=0.2, scale=0.8), \n",
        "             'colsample_bytree': sp_uniform(loc=0.4, scale=0.6),\n",
        "             'reg_alpha': [0, 1e-1, 1, 2, 5, 7, 10, 50, 100],\n",
        "             'reg_lambda': [0, 1e-1, 1, 5, 10, 20, 50, 100]}"
      ],
      "metadata": {
        "id": "GFZupZcwRf4i"
      },
      "execution_count": null,
      "outputs": []
    },
    {
      "cell_type": "code",
      "source": [
        "#This parameter defines the number of HP points to be tested\n",
        "n_HP_points_to_test = 100\n",
        "import lightgbm as lgb\n",
        "from sklearn.model_selection import RandomizedSearchCV, GridSearchCV"
      ],
      "metadata": {
        "id": "4qh5T_6qRf68"
      },
      "execution_count": null,
      "outputs": []
    },
    {
      "cell_type": "code",
      "source": [
        "clf = lgb.LGBMClassifier(max_depth=-1, random_state=314, silent=True, metric='None', n_jobs=4, n_estimators=5000)\n",
        "gs = RandomizedSearchCV(\n",
        "    estimator=clf, param_distributions=param_test, \n",
        "    n_iter=n_HP_points_to_test,\n",
        "    scoring='roc_auc',\n",
        "    cv=3,\n",
        "    refit=True,\n",
        "    random_state=314,\n",
        "    verbose=True)"
      ],
      "metadata": {
        "id": "dMYX-tspRf9J"
      },
      "execution_count": null,
      "outputs": []
    },
    {
      "cell_type": "code",
      "source": [
        "gs.fit(X_train_scale, y_train, **fit_params)\n",
        "print('Best score reached: {} with params: {} '.format(gs.best_score_, gs.best_params_))"
      ],
      "metadata": {
        "id": "Vj-kqPZJeoJV"
      },
      "execution_count": null,
      "outputs": []
    },
    {
      "cell_type": "code",
      "source": [
        "{'colsample_bytree': 0.7916380440478592, 'min_child_samples': 211, 'min_child_weight': 1, 'num_leaves': 45, 'reg_alpha': 2, 'reg_lambda': 20, 'subsample': 0.5211522776637936} "
      ],
      "metadata": {
        "colab": {
          "base_uri": "https://localhost:8080/"
        },
        "id": "GiMwCmywS-OW",
        "outputId": "cd9290b7-317b-4cde-c4b6-105bcada01bb"
      },
      "execution_count": null,
      "outputs": [
        {
          "output_type": "execute_result",
          "data": {
            "text/plain": [
              "{'colsample_bytree': 0.7916380440478592,\n",
              " 'min_child_samples': 211,\n",
              " 'min_child_weight': 1,\n",
              " 'num_leaves': 45,\n",
              " 'reg_alpha': 2,\n",
              " 'reg_lambda': 20,\n",
              " 'subsample': 0.5211522776637936}"
            ]
          },
          "metadata": {},
          "execution_count": 219
        }
      ]
    },
    {
      "cell_type": "code",
      "source": [
        "clf_sw = lgb.LGBMClassifier(**clf.get_params())\n",
        "#set optimal parameters\n",
        "clf_sw.set_params(**opt_parameters)\n",
        "\n",
        "clf_sw.fit(X_train_scale, y_train, **fit_params, callbacks=[lgb.reset_parameter(learning_rate=learning_rate_010_decay_power_0995)])"
      ],
      "metadata": {
        "colab": {
          "base_uri": "https://localhost:8080/"
        },
        "id": "f9rFN3JRTDVs",
        "outputId": "9c3cb71b-a01c-45bb-8da2-12e7224892ec"
      },
      "execution_count": null,
      "outputs": [
        {
          "output_type": "stream",
          "name": "stdout",
          "text": [
            "Training until validation scores don't improve for 30 rounds.\n",
            "Early stopping, best iteration is:\n",
            "[64]\tvalid's auc: 0.508183\n"
          ]
        },
        {
          "output_type": "execute_result",
          "data": {
            "text/plain": [
              "LGBMClassifier(colsample_bytree=0.952164731370897, metric='None',\n",
              "               min_child_samples=111, min_child_weight=0.01, n_estimators=5000,\n",
              "               n_jobs=4, num_leaves=38, random_state=314, reg_alpha=0,\n",
              "               reg_lambda=0.1, subsample=0.3029313662262354)"
            ]
          },
          "metadata": {},
          "execution_count": 220
        }
      ]
    },
    {
      "cell_type": "code",
      "source": [
        "y_pred = clf_sw.predict(X_test_scale)"
      ],
      "metadata": {
        "id": "T2B6KHHdTDaj"
      },
      "execution_count": null,
      "outputs": []
    },
    {
      "cell_type": "code",
      "source": [
        "from sklearn.metrics import mean_squared_error, accuracy_score, confusion_matrix, f1_score, recall_score, precision_score, make_scorer, roc_curve, auc\n",
        "print(accuracy_score(y_test,y_pred))\n",
        "print('f1_score : ' + str(f1_score(y_test,y_pred, average='macro')))"
      ],
      "metadata": {
        "colab": {
          "base_uri": "https://localhost:8080/"
        },
        "id": "rg5egrajSAyJ",
        "outputId": "8686330c-013b-4689-de1e-d0add07cfd87"
      },
      "execution_count": null,
      "outputs": [
        {
          "output_type": "stream",
          "name": "stdout",
          "text": [
            "0.8442703232125367\n",
            "f1_score : 0.6029132269308384\n"
          ]
        }
      ]
    },
    {
      "cell_type": "code",
      "source": [
        "feat_imp = pd.Series(clf_sw.feature_importances_, index=application_train_ohe.drop(['SK_ID_CURR', 'TARGET'], axis=1).columns)\n",
        "feat_imp.nlargest(20).plot(kind='barh', figsize=(8,10))"
      ],
      "metadata": {
        "id": "YNxkEx47SA2Z"
      },
      "execution_count": null,
      "outputs": []
    },
    {
      "cell_type": "markdown",
      "source": [
        "### LightGBM avec selection var"
      ],
      "metadata": {
        "id": "o2fi1a55nxjc"
      }
    },
    {
      "cell_type": "code",
      "source": [
        "model = LGBMClassifier()\n",
        "cv = RepeatedStratifiedKFold(n_splits=10, n_repeats=3, random_state=1)\n",
        "n_scores = cross_val_score(model, X_train, y_train, scoring='accuracy', cv=cv, n_jobs=-1, error_score='raise')\n",
        "print('Accuracy: %.3f (%.3f)' % (mean(n_scores), std(n_scores)))"
      ],
      "metadata": {
        "colab": {
          "base_uri": "https://localhost:8080/"
        },
        "id": "JVuCbI03nxtT",
        "outputId": "eff40a23-f4d4-4d28-ea18-748a205fa71b"
      },
      "execution_count": null,
      "outputs": [
        {
          "output_type": "stream",
          "name": "stdout",
          "text": [
            "Accuracy: 0.842 (0.011)\n"
          ]
        }
      ]
    },
    {
      "cell_type": "code",
      "source": [
        "model = LGBMClassifier()\n",
        "model.fit(X_train_sel_std, y_train)\n",
        "y_pred = model.predict(X_test_sel_std)"
      ],
      "metadata": {
        "id": "_04YYEJCnxvz"
      },
      "execution_count": null,
      "outputs": []
    },
    {
      "cell_type": "code",
      "source": [
        "from sklearn.metrics import mean_squared_error, accuracy_score, confusion_matrix, f1_score, recall_score, precision_score, make_scorer, roc_curve, auc\n",
        "print(accuracy_score(y_test,y_pred))\n",
        "print('f1_score : ' + str(f1_score(y_test,y_pred, average='macro')))"
      ],
      "metadata": {
        "colab": {
          "base_uri": "https://localhost:8080/"
        },
        "id": "l4VsQIQQnxyk",
        "outputId": "6169bd07-ce3c-485d-e0d3-cedc36329f26"
      },
      "execution_count": null,
      "outputs": [
        {
          "output_type": "stream",
          "name": "stdout",
          "text": [
            "0.8349657198824681\n",
            "f1_score : 0.5864148448651492\n"
          ]
        }
      ]
    },
    {
      "cell_type": "markdown",
      "source": [
        "### Sur XTestsubmit"
      ],
      "metadata": {
        "id": "JhTWEPWlA1l_"
      }
    },
    {
      "cell_type": "code",
      "source": [
        "id=XTestsubmit['iid_pid']\n",
        "XTestsubmit=XTestsubmit.drop(['iid_pid'],axis=1)"
      ],
      "metadata": {
        "id": "jAoBJCM-2BO7"
      },
      "execution_count": null,
      "outputs": []
    },
    {
      "cell_type": "code",
      "source": [
        "XTestsubmit_sel=XTestsubmit[col]\n",
        "#XTestsubmit_sel=XTestsubmit\n",
        "\n",
        "scaler = StandardScaler().fit(XTestsubmit_sel)\n",
        "XTestsubmit_sel_std = scaler.transform(XTestsubmit_sel)"
      ],
      "metadata": {
        "id": "ZV8Z7gBsTIEF"
      },
      "execution_count": null,
      "outputs": []
    },
    {
      "cell_type": "code",
      "source": [
        "XTestsubmit_sel_std"
      ],
      "metadata": {
        "colab": {
          "base_uri": "https://localhost:8080/"
        },
        "id": "FNfjphaEmkND",
        "outputId": "b1c6d591-7ba6-439f-b10a-9cdc49c1c019"
      },
      "execution_count": null,
      "outputs": [
        {
          "output_type": "execute_result",
          "data": {
            "text/plain": [
              "array([[-1.03328937,  1.73625298,  1.36115417,  1.90591881,  0.50229015],\n",
              "       [-0.5423064 ,  0.51837923,  1.36115417, -0.14200076,  0.01129344],\n",
              "       [ 0.57058835, -0.09055765,  0.42073233, -0.65398065,  0.01129344],\n",
              "       ...,\n",
              "       [ 1.3561611 , -1.3084314 ,  0.89094325,  1.90591881,  0.50229015],\n",
              "       [-2.01525532, -2.52630516, -1.46011133, -1.16596055, -0.47970327],\n",
              "       [ 0.17780197, -1.3084314 , -1.46011133, -0.65398065, -1.46169669]])"
            ]
          },
          "metadata": {},
          "execution_count": 82
        }
      ]
    },
    {
      "cell_type": "code",
      "source": [
        "#y_predsubmit = Adaclfstd.predict(XTestsubmit_sel_std)\n",
        "#y_predsubmit = classifier.predict(XTestsubmit_sel_std)\n",
        "y_predsubmit = gb_clf_sel.predict(XTestsubmit_sel_std)\n",
        "#y_predsubmit = model.predict(XTestsubmit_sel_std)"
      ],
      "metadata": {
        "id": "D6UGURYEZAAN"
      },
      "execution_count": null,
      "outputs": []
    },
    {
      "cell_type": "code",
      "source": [
        "pd.set_option('display.max_rows',100)"
      ],
      "metadata": {
        "id": "1j0XDMUdelFW"
      },
      "execution_count": null,
      "outputs": []
    },
    {
      "cell_type": "code",
      "source": [
        "dataf=pd.DataFrame(y_predsubmit)"
      ],
      "metadata": {
        "id": "i3T2_m2Ye20H"
      },
      "execution_count": null,
      "outputs": []
    },
    {
      "cell_type": "code",
      "source": [
        "dataf.value_counts()"
      ],
      "metadata": {
        "id": "TO0yggnofBDO",
        "outputId": "cd47628c-cbee-4063-c91a-60b2bcd1e838",
        "colab": {
          "base_uri": "https://localhost:8080/"
        }
      },
      "execution_count": null,
      "outputs": [
        {
          "output_type": "execute_result",
          "data": {
            "text/plain": [
              "0.0    1501\n",
              "1.0      73\n",
              "dtype: int64"
            ]
          },
          "metadata": {},
          "execution_count": 320
        }
      ]
    },
    {
      "cell_type": "code",
      "source": [
        "submit=pd.DataFrame({'iid_pid': id,'target':y_predsubmit},)"
      ],
      "metadata": {
        "id": "h_m-7oLEZAJN"
      },
      "execution_count": null,
      "outputs": []
    },
    {
      "cell_type": "code",
      "source": [
        "submit.to_csv(\"to_submit.csv\",index=False,header=True,sep=',')"
      ],
      "metadata": {
        "id": "3oQfz52YWFuV"
      },
      "execution_count": null,
      "outputs": []
    }
  ]
}